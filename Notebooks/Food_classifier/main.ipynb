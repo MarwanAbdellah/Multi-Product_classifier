{
 "cells": [
  {
   "cell_type": "code",
   "execution_count": 1,
   "metadata": {},
   "outputs": [
    {
     "name": "stdout",
     "output_type": "stream",
     "text": [
      "E:\\Github\\Product_classifier\\Notebooks\\Food_classifier\n"
     ]
    }
   ],
   "source": [
    "%cd E:\\Github\\Product_classifier\\Notebooks\\Food_classifier"
   ]
  },
  {
   "cell_type": "markdown",
   "metadata": {},
   "source": [
    "# Loading our dataset"
   ]
  },
  {
   "cell_type": "code",
   "execution_count": 2,
   "metadata": {},
   "outputs": [],
   "source": [
    "from datasets import load_dataset\n",
    "\n",
    "food = load_dataset(\"food101\", split=\"train[:10000]\")"
   ]
  },
  {
   "cell_type": "markdown",
   "metadata": {},
   "source": [
    "## Previewing the data we've obtained"
   ]
  },
  {
   "cell_type": "code",
   "execution_count": 3,
   "metadata": {},
   "outputs": [
    {
     "data": {
      "text/plain": [
       "Dataset({\n",
       "    features: ['image', 'label'],\n",
       "    num_rows: 10000\n",
       "})"
      ]
     },
     "execution_count": 3,
     "metadata": {},
     "output_type": "execute_result"
    }
   ],
   "source": [
    "food"
   ]
  },
  {
   "cell_type": "markdown",
   "metadata": {},
   "source": [
    "## Splitting our data into train and test sets"
   ]
  },
  {
   "cell_type": "code",
   "execution_count": 4,
   "metadata": {},
   "outputs": [],
   "source": [
    "food_splitted = food.train_test_split(0.2)"
   ]
  },
  {
   "cell_type": "code",
   "execution_count": 5,
   "metadata": {},
   "outputs": [
    {
     "data": {
      "text/plain": [
       "DatasetDict({\n",
       "    train: Dataset({\n",
       "        features: ['image', 'label'],\n",
       "        num_rows: 8000\n",
       "    })\n",
       "    test: Dataset({\n",
       "        features: ['image', 'label'],\n",
       "        num_rows: 2000\n",
       "    })\n",
       "})"
      ]
     },
     "execution_count": 5,
     "metadata": {},
     "output_type": "execute_result"
    }
   ],
   "source": [
    "food_splitted"
   ]
  },
  {
   "cell_type": "markdown",
   "metadata": {},
   "source": [
    "## Identifying the labels in correlation to its ID and vice versa"
   ]
  },
  {
   "cell_type": "code",
   "execution_count": 6,
   "metadata": {},
   "outputs": [],
   "source": [
    "labels = food_splitted[\"train\"].features[\"label\"].names\n",
    "label2id, id2label = dict(), dict()\n",
    "for i, label in enumerate(labels):\n",
    "    label2id[label] = str(i)\n",
    "    id2label[str(i)] = label"
   ]
  },
  {
   "cell_type": "code",
   "execution_count": 7,
   "metadata": {},
   "outputs": [
    {
     "data": {
      "text/plain": [
       "{'apple_pie': '0',\n",
       " 'baby_back_ribs': '1',\n",
       " 'baklava': '2',\n",
       " 'beef_carpaccio': '3',\n",
       " 'beef_tartare': '4',\n",
       " 'beet_salad': '5',\n",
       " 'beignets': '6',\n",
       " 'bibimbap': '7',\n",
       " 'bread_pudding': '8',\n",
       " 'breakfast_burrito': '9',\n",
       " 'bruschetta': '10',\n",
       " 'caesar_salad': '11',\n",
       " 'cannoli': '12',\n",
       " 'caprese_salad': '13',\n",
       " 'carrot_cake': '14',\n",
       " 'ceviche': '15',\n",
       " 'cheesecake': '16',\n",
       " 'cheese_plate': '17',\n",
       " 'chicken_curry': '18',\n",
       " 'chicken_quesadilla': '19',\n",
       " 'chicken_wings': '20',\n",
       " 'chocolate_cake': '21',\n",
       " 'chocolate_mousse': '22',\n",
       " 'churros': '23',\n",
       " 'clam_chowder': '24',\n",
       " 'club_sandwich': '25',\n",
       " 'crab_cakes': '26',\n",
       " 'creme_brulee': '27',\n",
       " 'croque_madame': '28',\n",
       " 'cup_cakes': '29',\n",
       " 'deviled_eggs': '30',\n",
       " 'donuts': '31',\n",
       " 'dumplings': '32',\n",
       " 'edamame': '33',\n",
       " 'eggs_benedict': '34',\n",
       " 'escargots': '35',\n",
       " 'falafel': '36',\n",
       " 'filet_mignon': '37',\n",
       " 'fish_and_chips': '38',\n",
       " 'foie_gras': '39',\n",
       " 'french_fries': '40',\n",
       " 'french_onion_soup': '41',\n",
       " 'french_toast': '42',\n",
       " 'fried_calamari': '43',\n",
       " 'fried_rice': '44',\n",
       " 'frozen_yogurt': '45',\n",
       " 'garlic_bread': '46',\n",
       " 'gnocchi': '47',\n",
       " 'greek_salad': '48',\n",
       " 'grilled_cheese_sandwich': '49',\n",
       " 'grilled_salmon': '50',\n",
       " 'guacamole': '51',\n",
       " 'gyoza': '52',\n",
       " 'hamburger': '53',\n",
       " 'hot_and_sour_soup': '54',\n",
       " 'hot_dog': '55',\n",
       " 'huevos_rancheros': '56',\n",
       " 'hummus': '57',\n",
       " 'ice_cream': '58',\n",
       " 'lasagna': '59',\n",
       " 'lobster_bisque': '60',\n",
       " 'lobster_roll_sandwich': '61',\n",
       " 'macaroni_and_cheese': '62',\n",
       " 'macarons': '63',\n",
       " 'miso_soup': '64',\n",
       " 'mussels': '65',\n",
       " 'nachos': '66',\n",
       " 'omelette': '67',\n",
       " 'onion_rings': '68',\n",
       " 'oysters': '69',\n",
       " 'pad_thai': '70',\n",
       " 'paella': '71',\n",
       " 'pancakes': '72',\n",
       " 'panna_cotta': '73',\n",
       " 'peking_duck': '74',\n",
       " 'pho': '75',\n",
       " 'pizza': '76',\n",
       " 'pork_chop': '77',\n",
       " 'poutine': '78',\n",
       " 'prime_rib': '79',\n",
       " 'pulled_pork_sandwich': '80',\n",
       " 'ramen': '81',\n",
       " 'ravioli': '82',\n",
       " 'red_velvet_cake': '83',\n",
       " 'risotto': '84',\n",
       " 'samosa': '85',\n",
       " 'sashimi': '86',\n",
       " 'scallops': '87',\n",
       " 'seaweed_salad': '88',\n",
       " 'shrimp_and_grits': '89',\n",
       " 'spaghetti_bolognese': '90',\n",
       " 'spaghetti_carbonara': '91',\n",
       " 'spring_rolls': '92',\n",
       " 'steak': '93',\n",
       " 'strawberry_shortcake': '94',\n",
       " 'sushi': '95',\n",
       " 'tacos': '96',\n",
       " 'takoyaki': '97',\n",
       " 'tiramisu': '98',\n",
       " 'tuna_tartare': '99',\n",
       " 'waffles': '100'}"
      ]
     },
     "execution_count": 7,
     "metadata": {},
     "output_type": "execute_result"
    }
   ],
   "source": [
    "label2id"
   ]
  },
  {
   "cell_type": "markdown",
   "metadata": {},
   "source": [
    "# Identifying the image processor "
   ]
  },
  {
   "cell_type": "code",
   "execution_count": 8,
   "metadata": {},
   "outputs": [],
   "source": [
    "from transformers import AutoImageProcessor\n",
    "\n",
    "processor = AutoImageProcessor.from_pretrained(\"google/vit-base-patch16-224-in21k\", use_fast=True)"
   ]
  },
  {
   "cell_type": "code",
   "execution_count": 9,
   "metadata": {},
   "outputs": [
    {
     "data": {
      "text/plain": [
       "(224, 224)"
      ]
     },
     "execution_count": 9,
     "metadata": {},
     "output_type": "execute_result"
    }
   ],
   "source": [
    "processor.size\n",
    "\n",
    "size = (processor.size['height'], processor.size['width'])\n",
    "size"
   ]
  },
  {
   "cell_type": "markdown",
   "metadata": {},
   "source": [
    "## Augementing our images with the properties set in our processor"
   ]
  },
  {
   "cell_type": "code",
   "execution_count": 10,
   "metadata": {},
   "outputs": [],
   "source": [
    "from torchvision.transforms import RandomResizedCrop, Compose, ToTensor, Normalize\n",
    "\n",
    "transform = Compose([\n",
    "    RandomResizedCrop(size),\n",
    "    ToTensor(),\n",
    "    Normalize(mean=processor.image_mean, std=processor.image_std)\n",
    "])"
   ]
  },
  {
   "cell_type": "markdown",
   "metadata": {},
   "source": [
    "### Preprocessing our images and deleting the original image files"
   ]
  },
  {
   "cell_type": "code",
   "execution_count": 11,
   "metadata": {},
   "outputs": [],
   "source": [
    "def preprocess_images(samples):\n",
    "    samples['pixel_values'] = [transform(img.convert(\"RGB\")) for img in samples[\"image\"]]\n",
    "    del samples['image']\n",
    "    return samples"
   ]
  },
  {
   "cell_type": "code",
   "execution_count": 12,
   "metadata": {},
   "outputs": [],
   "source": [
    "food_splitted_trans = food_splitted.with_transform(preprocess_images)       # Preprocess images with when calling the dataset"
   ]
  },
  {
   "cell_type": "code",
   "execution_count": 13,
   "metadata": {},
   "outputs": [
    {
     "data": {
      "text/plain": [
       "{'label': 53,\n",
       " 'pixel_values': tensor([[[-0.7804, -0.7569, -0.7020,  ..., -0.3020, -0.3412, -0.3490],\n",
       "          [-0.7412, -0.7176, -0.6863,  ..., -0.2706, -0.2941, -0.3098],\n",
       "          [-0.7255, -0.7020, -0.6863,  ..., -0.2471, -0.2471, -0.2627],\n",
       "          ...,\n",
       "          [ 0.5451,  0.5451,  0.4980,  ..., -0.4275, -0.4510, -0.4510],\n",
       "          [ 0.5608,  0.5529,  0.5294,  ..., -0.4353, -0.4431, -0.4275],\n",
       "          [ 0.5608,  0.5451,  0.5451,  ..., -0.4667, -0.4667, -0.4510]],\n",
       " \n",
       "         [[-0.7647, -0.7804, -0.7647,  ..., -0.4824, -0.5216, -0.5529],\n",
       "          [-0.7333, -0.7490, -0.7569,  ..., -0.4902, -0.5294, -0.5451],\n",
       "          [-0.7412, -0.7412, -0.7647,  ..., -0.5059, -0.5216, -0.5373],\n",
       "          ...,\n",
       "          [ 0.5686,  0.5686,  0.5216,  ..., -0.5137, -0.5294, -0.5294],\n",
       "          [ 0.5765,  0.5765,  0.5529,  ..., -0.5137, -0.5137, -0.5059],\n",
       "          [ 0.5765,  0.5686,  0.5686,  ..., -0.5373, -0.5373, -0.5137]],\n",
       " \n",
       "         [[-0.7412, -0.7490, -0.7333,  ..., -0.6784, -0.7176, -0.7176],\n",
       "          [-0.7412, -0.7647, -0.7804,  ..., -0.6549, -0.6863, -0.6941],\n",
       "          [-0.7647, -0.7961, -0.8275,  ..., -0.6235, -0.6392, -0.6471],\n",
       "          ...,\n",
       "          [ 0.3412,  0.3569,  0.3255,  ..., -0.5608, -0.5922, -0.6157],\n",
       "          [ 0.3333,  0.3569,  0.3490,  ..., -0.5608, -0.5765, -0.5843],\n",
       "          [ 0.3255,  0.3333,  0.3569,  ..., -0.5922, -0.6000, -0.6000]]])}"
      ]
     },
     "execution_count": 13,
     "metadata": {},
     "output_type": "execute_result"
    }
   ],
   "source": [
    "food_splitted_trans['train'][0]"
   ]
  },
  {
   "cell_type": "markdown",
   "metadata": {},
   "source": [
    "# Importing our model for image classification"
   ]
  },
  {
   "cell_type": "code",
   "execution_count": 14,
   "metadata": {},
   "outputs": [
    {
     "name": "stderr",
     "output_type": "stream",
     "text": [
      "Some weights of ViTForImageClassification were not initialized from the model checkpoint at google/vit-base-patch16-224-in21k and are newly initialized: ['classifier.bias', 'classifier.weight']\n",
      "You should probably TRAIN this model on a down-stream task to be able to use it for predictions and inference.\n"
     ]
    }
   ],
   "source": [
    "from transformers import AutoModelForImageClassification, Trainer, TrainingArguments\n",
    "\n",
    "model = AutoModelForImageClassification.from_pretrained(\"google/vit-base-patch16-224-in21k\", num_labels=len(labels),id2label=id2label,label2id=label2id)"
   ]
  },
  {
   "cell_type": "markdown",
   "metadata": {},
   "source": [
    "## Identifying the data collator (Data Loader)"
   ]
  },
  {
   "cell_type": "code",
   "execution_count": 15,
   "metadata": {},
   "outputs": [],
   "source": [
    "from transformers import DefaultDataCollator\n",
    "\n",
    "data_collator = DefaultDataCollator()"
   ]
  },
  {
   "cell_type": "markdown",
   "metadata": {},
   "source": [
    "## Identifying the evaulation metrics for the model"
   ]
  },
  {
   "cell_type": "code",
   "execution_count": 16,
   "metadata": {},
   "outputs": [],
   "source": [
    "import evaluate \n",
    "import numpy as np\n",
    "\n",
    "metric = evaluate.load(\"accuracy\")\n",
    "\n",
    "def compute_metrics(eval_pred):\n",
    "    predictions, labels = eval_pred\n",
    "    predictions = np.argmax(predictions, axis=1)\n",
    "    return metric.compute(predictions=predictions, references=labels)"
   ]
  },
  {
   "cell_type": "markdown",
   "metadata": {},
   "source": [
    "## Identifying the training arguments, number of epochs, batch size, learning rate, and other hyperparameters for training the model.\n",
    "\n",
    "### Identifying the data trainer using our model, training arguments, data loader, evaulation metrics, our datasets and images processor."
   ]
  },
  {
   "cell_type": "code",
   "execution_count": 17,
   "metadata": {},
   "outputs": [],
   "source": [
    "training_args = TrainingArguments(\n",
    "    output_dir='./results',          # output directory\n",
    "    remove_unused_columns=False,\n",
    "    num_train_epochs=3,              # total number of training epochs\n",
    "    per_device_train_batch_size=16,  # batch size per device during training\n",
    "    learning_rate=1e-4,\n",
    "    per_device_eval_batch_size=16,   # batch size for evaluation\n",
    "    weight_decay=0.01,               # strength of weight decay\n",
    "    save_strategy='epoch',\n",
    "    logging_steps=50,\n",
    "    push_to_hub=False,\n",
    "    metric_for_best_model='accuracy',\n",
    ")\n",
    "\n",
    "trainer = Trainer(\n",
    "    model=model,                         # the instantiated 🤗 Transformers model to be trained\n",
    "    args=training_args,                  # training arguments, defined above\n",
    "    data_collator=data_collator,\n",
    "    compute_metrics=compute_metrics,     # the callback that computes metrics of interest\n",
    "    train_dataset=food_splitted_trans['train'],         # training dataset\n",
    "    eval_dataset=food_splitted_trans['test'],            # evaluation dataset\n",
    "    processing_class = processor\n",
    ")\n"
   ]
  },
  {
   "cell_type": "markdown",
   "metadata": {},
   "source": [
    "# Model Training"
   ]
  },
  {
   "cell_type": "code",
   "execution_count": 18,
   "metadata": {},
   "outputs": [
    {
     "data": {
      "text/html": [
       "\n",
       "    <div>\n",
       "      \n",
       "      <progress value='1500' max='1500' style='width:300px; height:20px; vertical-align: middle;'></progress>\n",
       "      [1500/1500 10:06, Epoch 3/3]\n",
       "    </div>\n",
       "    <table border=\"1\" class=\"dataframe\">\n",
       "  <thead>\n",
       " <tr style=\"text-align: left;\">\n",
       "      <th>Step</th>\n",
       "      <th>Training Loss</th>\n",
       "    </tr>\n",
       "  </thead>\n",
       "  <tbody>\n",
       "    <tr>\n",
       "      <td>50</td>\n",
       "      <td>3.639100</td>\n",
       "    </tr>\n",
       "    <tr>\n",
       "      <td>100</td>\n",
       "      <td>2.319000</td>\n",
       "    </tr>\n",
       "    <tr>\n",
       "      <td>150</td>\n",
       "      <td>1.528100</td>\n",
       "    </tr>\n",
       "    <tr>\n",
       "      <td>200</td>\n",
       "      <td>1.221900</td>\n",
       "    </tr>\n",
       "    <tr>\n",
       "      <td>250</td>\n",
       "      <td>0.904300</td>\n",
       "    </tr>\n",
       "    <tr>\n",
       "      <td>300</td>\n",
       "      <td>0.775900</td>\n",
       "    </tr>\n",
       "    <tr>\n",
       "      <td>350</td>\n",
       "      <td>0.627100</td>\n",
       "    </tr>\n",
       "    <tr>\n",
       "      <td>400</td>\n",
       "      <td>0.581300</td>\n",
       "    </tr>\n",
       "    <tr>\n",
       "      <td>450</td>\n",
       "      <td>0.519500</td>\n",
       "    </tr>\n",
       "    <tr>\n",
       "      <td>500</td>\n",
       "      <td>0.511300</td>\n",
       "    </tr>\n",
       "    <tr>\n",
       "      <td>550</td>\n",
       "      <td>0.367000</td>\n",
       "    </tr>\n",
       "    <tr>\n",
       "      <td>600</td>\n",
       "      <td>0.367000</td>\n",
       "    </tr>\n",
       "    <tr>\n",
       "      <td>650</td>\n",
       "      <td>0.395100</td>\n",
       "    </tr>\n",
       "    <tr>\n",
       "      <td>700</td>\n",
       "      <td>0.383600</td>\n",
       "    </tr>\n",
       "    <tr>\n",
       "      <td>750</td>\n",
       "      <td>0.380000</td>\n",
       "    </tr>\n",
       "    <tr>\n",
       "      <td>800</td>\n",
       "      <td>0.351800</td>\n",
       "    </tr>\n",
       "    <tr>\n",
       "      <td>850</td>\n",
       "      <td>0.317600</td>\n",
       "    </tr>\n",
       "    <tr>\n",
       "      <td>900</td>\n",
       "      <td>0.299300</td>\n",
       "    </tr>\n",
       "    <tr>\n",
       "      <td>950</td>\n",
       "      <td>0.254200</td>\n",
       "    </tr>\n",
       "    <tr>\n",
       "      <td>1000</td>\n",
       "      <td>0.291500</td>\n",
       "    </tr>\n",
       "    <tr>\n",
       "      <td>1050</td>\n",
       "      <td>0.240700</td>\n",
       "    </tr>\n",
       "    <tr>\n",
       "      <td>1100</td>\n",
       "      <td>0.237000</td>\n",
       "    </tr>\n",
       "    <tr>\n",
       "      <td>1150</td>\n",
       "      <td>0.229300</td>\n",
       "    </tr>\n",
       "    <tr>\n",
       "      <td>1200</td>\n",
       "      <td>0.171900</td>\n",
       "    </tr>\n",
       "    <tr>\n",
       "      <td>1250</td>\n",
       "      <td>0.193600</td>\n",
       "    </tr>\n",
       "    <tr>\n",
       "      <td>1300</td>\n",
       "      <td>0.182100</td>\n",
       "    </tr>\n",
       "    <tr>\n",
       "      <td>1350</td>\n",
       "      <td>0.224700</td>\n",
       "    </tr>\n",
       "    <tr>\n",
       "      <td>1400</td>\n",
       "      <td>0.181300</td>\n",
       "    </tr>\n",
       "    <tr>\n",
       "      <td>1450</td>\n",
       "      <td>0.163200</td>\n",
       "    </tr>\n",
       "    <tr>\n",
       "      <td>1500</td>\n",
       "      <td>0.206000</td>\n",
       "    </tr>\n",
       "  </tbody>\n",
       "</table><p>"
      ],
      "text/plain": [
       "<IPython.core.display.HTML object>"
      ]
     },
     "metadata": {},
     "output_type": "display_data"
    },
    {
     "data": {
      "text/plain": [
       "TrainOutput(global_step=1500, training_loss=0.6021390005747477, metrics={'train_runtime': 607.6896, 'train_samples_per_second': 39.494, 'train_steps_per_second': 2.468, 'total_flos': 1.8614579687424e+18, 'train_loss': 0.6021390005747477, 'epoch': 3.0})"
      ]
     },
     "execution_count": 18,
     "metadata": {},
     "output_type": "execute_result"
    }
   ],
   "source": [
    "trainer.train()"
   ]
  },
  {
   "cell_type": "code",
   "execution_count": 22,
   "metadata": {},
   "outputs": [
    {
     "data": {
      "text/html": [],
      "text/plain": [
       "<IPython.core.display.HTML object>"
      ]
     },
     "metadata": {},
     "output_type": "display_data"
    },
    {
     "name": "stdout",
     "output_type": "stream",
     "text": [
      "Classification Report:\n",
      "                precision    recall  f1-score   support\n",
      "\n",
      "      beignets       0.96      0.95      0.95       156\n",
      "    bruschetta       0.87      0.86      0.86       168\n",
      " chicken_wings       0.98      0.95      0.96       174\n",
      "chocolate_cake       0.94      0.96      0.95        51\n",
      " eggs_benedict       0.92      0.95      0.93       151\n",
      "   greek_salad       0.91      0.94      0.92       125\n",
      "     guacamole       0.97      0.96      0.96       158\n",
      "     hamburger       0.89      0.91      0.90       146\n",
      "         pizza       0.91      0.93      0.92       166\n",
      "     pork_chop       0.83      0.83      0.83       144\n",
      "     prime_rib       0.87      0.87      0.87       133\n",
      "         ramen       0.95      0.93      0.94       151\n",
      "       risotto       0.95      0.92      0.93       138\n",
      "       sashimi       0.95      0.97      0.96       139\n",
      "\n",
      "      accuracy                           0.92      2000\n",
      "     macro avg       0.92      0.92      0.92      2000\n",
      "  weighted avg       0.92      0.92      0.92      2000\n",
      "\n"
     ]
    }
   ],
   "source": [
    "from sklearn.metrics import classification_report\n",
    "import numpy as np\n",
    "\n",
    "# Get predictions\n",
    "predictions = trainer.predict(food_splitted_trans['test'])\n",
    "y_true = predictions.label_ids\n",
    "y_pred = np.argmax(predictions.predictions, axis=1)\n",
    "\n",
    "# Get all possible label names from full training set\n",
    "all_label_names = food_splitted[\"train\"].features[\"label\"].names\n",
    "\n",
    "# Get only the labels that appear in the current predictions\n",
    "unique_labels = np.unique(np.concatenate([y_true, y_pred]))\n",
    "\n",
    "# Print classification report with the correct subset of label names\n",
    "print(\"Classification Report:\")\n",
    "print(classification_report(\n",
    "    y_true,\n",
    "    y_pred,\n",
    "    labels=unique_labels,\n",
    "    target_names=[all_label_names[i] for i in unique_labels]\n",
    "))\n"
   ]
  }
 ],
 "metadata": {
  "kernelspec": {
   "display_name": "product_classifier",
   "language": "python",
   "name": "python3"
  },
  "language_info": {
   "codemirror_mode": {
    "name": "ipython",
    "version": 3
   },
   "file_extension": ".py",
   "mimetype": "text/x-python",
   "name": "python",
   "nbconvert_exporter": "python",
   "pygments_lexer": "ipython3",
   "version": "3.11.11"
  }
 },
 "nbformat": 4,
 "nbformat_minor": 2
}
