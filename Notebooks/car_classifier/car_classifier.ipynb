{
 "cells": [
  {
   "cell_type": "markdown",
   "id": "850ae793",
   "metadata": {},
   "source": [
    "# Importing Libraries"
   ]
  },
  {
   "cell_type": "code",
   "execution_count": 34,
   "id": "16dd05a8",
   "metadata": {},
   "outputs": [],
   "source": [
    "import numpy as np\n",
    "import pandas as pd\n",
    "from glob import glob\n",
    "from collections import Counter\n",
    "import matplotlib.pyplot as plt\n",
    "from sklearn.metrics import accuracy_score, roc_auc_score, confusion_matrix, classification_report, f1_score\n",
    "\n",
    "from imblearn.over_sampling import RandomOverSampler\n",
    "import accelerate\n",
    "import evaluate\n",
    "from datasets import Dataset, Image, ClassLabel\n",
    "import transformers\n",
    "\n",
    "import torch\n",
    "from torch.utils.data import DataLoader\n",
    "import torchvision.transforms\n",
    "\n",
    "from PIL import ImageFile\n",
    "from pathlib import Path\n",
    "from tqdm import tqdm\n",
    "import os\n"
   ]
  },
  {
   "cell_type": "markdown",
   "id": "e1d2315c",
   "metadata": {},
   "source": [
    "# Importing our data"
   ]
  },
  {
   "cell_type": "code",
   "execution_count": 35,
   "id": "af523e3b",
   "metadata": {},
   "outputs": [
    {
     "name": "stderr",
     "output_type": "stream",
     "text": [
      "100%|██████████| 64467/64467 [00:00<00:00, 185533.43it/s]"
     ]
    },
    {
     "name": "stdout",
     "output_type": "stream",
     "text": [
      "64467 64467 323\n"
     ]
    },
    {
     "name": "stderr",
     "output_type": "stream",
     "text": [
      "\n"
     ]
    }
   ],
   "source": [
    "image_dict = {}\n",
    "\n",
    "# Use glob to find all files with any extension in the target directory\n",
    "file_paths = sorted(glob('data/*.*'))\n",
    "\n",
    "file_names = []\n",
    "labels = []\n",
    "\n",
    "for file in tqdm(file_paths):\n",
    "    file_names.append(file)  # Add the file path to the list\n",
    "    # Extract labels from filename (last part after splitting by os.sep), splitting by '_' and joining first two parts\n",
    "    labelss = ' '.join(os.path.basename(file).split('_')[:2])\n",
    "    labels.append(labelss)\n",
    "\n",
    "print(len(file_names), len(labels), len(set(labels)))\n",
    "\n",
    "df = pd.DataFrame.from_dict({\"image\": file_names, \"labels\": labels})\n"
   ]
  },
  {
   "cell_type": "code",
   "execution_count": 36,
   "id": "bb6de9ad",
   "metadata": {},
   "outputs": [
    {
     "data": {
      "application/vnd.microsoft.datawrangler.viewer.v0+json": {
       "columns": [
        {
         "name": "index",
         "rawType": "int64",
         "type": "integer"
        },
        {
         "name": "image",
         "rawType": "object",
         "type": "string"
        },
        {
         "name": "labels",
         "rawType": "object",
         "type": "string"
        }
       ],
       "conversionMethod": "pd.DataFrame",
       "ref": "ddcd7dde-7872-4aa6-9c3b-5d12babe34cf",
       "rows": [
        [
         "0",
         "data\\Acura_ILX_2013_28_16_110_15_4_70_55_179_39_FWD_5_4_4dr_Bbw.jpg",
         "Acura ILX"
        ],
        [
         "1",
         "data\\Acura_ILX_2013_28_16_110_15_4_70_55_179_39_FWD_5_4_4dr_Cvl.jpg",
         "Acura ILX"
        ],
        [
         "2",
         "data\\Acura_ILX_2013_28_16_110_15_4_70_55_179_39_FWD_5_4_4dr_Gzs.jpg",
         "Acura ILX"
        ],
        [
         "3",
         "data\\Acura_ILX_2013_28_16_110_15_4_70_55_179_39_FWD_5_4_4dr_Mro.jpg",
         "Acura ILX"
        ],
        [
         "4",
         "data\\Acura_ILX_2013_28_16_110_15_4_70_55_179_39_FWD_5_4_4dr_Ofi.jpg",
         "Acura ILX"
        ]
       ],
       "shape": {
        "columns": 2,
        "rows": 5
       }
      },
      "text/html": [
       "<div>\n",
       "<style scoped>\n",
       "    .dataframe tbody tr th:only-of-type {\n",
       "        vertical-align: middle;\n",
       "    }\n",
       "\n",
       "    .dataframe tbody tr th {\n",
       "        vertical-align: top;\n",
       "    }\n",
       "\n",
       "    .dataframe thead th {\n",
       "        text-align: right;\n",
       "    }\n",
       "</style>\n",
       "<table border=\"1\" class=\"dataframe\">\n",
       "  <thead>\n",
       "    <tr style=\"text-align: right;\">\n",
       "      <th></th>\n",
       "      <th>image</th>\n",
       "      <th>labels</th>\n",
       "    </tr>\n",
       "  </thead>\n",
       "  <tbody>\n",
       "    <tr>\n",
       "      <th>0</th>\n",
       "      <td>data\\Acura_ILX_2013_28_16_110_15_4_70_55_179_3...</td>\n",
       "      <td>Acura ILX</td>\n",
       "    </tr>\n",
       "    <tr>\n",
       "      <th>1</th>\n",
       "      <td>data\\Acura_ILX_2013_28_16_110_15_4_70_55_179_3...</td>\n",
       "      <td>Acura ILX</td>\n",
       "    </tr>\n",
       "    <tr>\n",
       "      <th>2</th>\n",
       "      <td>data\\Acura_ILX_2013_28_16_110_15_4_70_55_179_3...</td>\n",
       "      <td>Acura ILX</td>\n",
       "    </tr>\n",
       "    <tr>\n",
       "      <th>3</th>\n",
       "      <td>data\\Acura_ILX_2013_28_16_110_15_4_70_55_179_3...</td>\n",
       "      <td>Acura ILX</td>\n",
       "    </tr>\n",
       "    <tr>\n",
       "      <th>4</th>\n",
       "      <td>data\\Acura_ILX_2013_28_16_110_15_4_70_55_179_3...</td>\n",
       "      <td>Acura ILX</td>\n",
       "    </tr>\n",
       "  </tbody>\n",
       "</table>\n",
       "</div>"
      ],
      "text/plain": [
       "                                               image     labels\n",
       "0  data\\Acura_ILX_2013_28_16_110_15_4_70_55_179_3...  Acura ILX\n",
       "1  data\\Acura_ILX_2013_28_16_110_15_4_70_55_179_3...  Acura ILX\n",
       "2  data\\Acura_ILX_2013_28_16_110_15_4_70_55_179_3...  Acura ILX\n",
       "3  data\\Acura_ILX_2013_28_16_110_15_4_70_55_179_3...  Acura ILX\n",
       "4  data\\Acura_ILX_2013_28_16_110_15_4_70_55_179_3...  Acura ILX"
      ]
     },
     "execution_count": 36,
     "metadata": {},
     "output_type": "execute_result"
    }
   ],
   "source": [
    "df.head()"
   ]
  },
  {
   "cell_type": "code",
   "execution_count": 37,
   "id": "7806ec84",
   "metadata": {},
   "outputs": [
    {
     "name": "stdout",
     "output_type": "stream",
     "text": [
      "<class 'pandas.core.frame.DataFrame'>\n",
      "RangeIndex: 64467 entries, 0 to 64466\n",
      "Data columns (total 2 columns):\n",
      " #   Column  Non-Null Count  Dtype \n",
      "---  ------  --------------  ----- \n",
      " 0   image   64467 non-null  object\n",
      " 1   labels  64467 non-null  object\n",
      "dtypes: object(2)\n",
      "memory usage: 1007.4+ KB\n"
     ]
    }
   ],
   "source": [
    "df.info()       # We don't have any null values"
   ]
  },
  {
   "cell_type": "code",
   "execution_count": 38,
   "id": "46a64a64",
   "metadata": {},
   "outputs": [
    {
     "data": {
      "text/plain": [
       "(64467, 2)"
      ]
     },
     "execution_count": 38,
     "metadata": {},
     "output_type": "execute_result"
    }
   ],
   "source": [
    "df.shape"
   ]
  },
  {
   "cell_type": "markdown",
   "id": "d0eabb14",
   "metadata": {},
   "source": [
    "## viewing our labels"
   ]
  },
  {
   "cell_type": "code",
   "execution_count": 39,
   "id": "3c687a03",
   "metadata": {},
   "outputs": [
    {
     "name": "stdout",
     "output_type": "stream",
     "text": [
      "The number of car models in the dataset is (323)\n",
      "\n",
      "============================================\n",
      "      The models we have in our dataset\n",
      "      \n",
      "['Acura ILX' 'Acura MDX' 'Acura NSX' 'Acura RDX' 'Acura RLX' 'Acura TLX'\n",
      " 'Alfa Romeo 4C Spider' 'Alfa Romeo 4C' 'Alfa Romeo Giulia'\n",
      " 'Alfa Romeo Stelvio' 'Aston Martin DB11' 'Aston Martin DBS'\n",
      " 'Aston Martin Vanquish' 'Aston Martin Vantage' 'Audi A3' 'Audi A4'\n",
      " 'Audi A5' 'Audi A6' 'Audi A7' 'Audi A8' 'Audi Q3' 'Audi Q5' 'Audi Q7'\n",
      " 'Audi Q8' 'Audi R8' 'Audi TT' 'Audi e-tron' 'BMW 2-Series' 'BMW 3-Series'\n",
      " 'BMW 4-Series' 'BMW 5-Series' 'BMW 6-Series' 'BMW 7-Series'\n",
      " 'BMW 8-Series' 'BMW X1' 'BMW X2' 'BMW X3' 'BMW X4' 'BMW X5' 'BMW X6'\n",
      " 'BMW X7' 'BMW Z4' 'BMW i3' 'BMW i8' 'Bentley Bentayga'\n",
      " 'Bentley Continental GT' 'Bentley Flying Spur' 'Bentley Mulsanne'\n",
      " 'Buick Cascada' 'Buick Enclave' 'Buick Encore' 'Buick Envision'\n",
      " 'Buick Lacrosse' 'Buick Regal' 'Cadillac ATS' 'Cadillac CT4'\n",
      " 'Cadillac CT5' 'Cadillac CT6' 'Cadillac CTS' 'Cadillac Escalade'\n",
      " 'Cadillac XT4' 'Cadillac XT5' 'Cadillac XT6' 'Cadillac XTS'\n",
      " 'Chevrolet Blazer' 'Chevrolet Bolt EV' 'Chevrolet Camaro'\n",
      " 'Chevrolet Colorado' 'Chevrolet Corvette' 'Chevrolet Cruze'\n",
      " 'Chevrolet Equinox' 'Chevrolet Impala' 'Chevrolet Malibu'\n",
      " 'Chevrolet Silverado 1500' 'Chevrolet Silverado 2500HD' 'Chevrolet Sonic'\n",
      " 'Chevrolet Spark' 'Chevrolet Suburban' 'Chevrolet Tahoe'\n",
      " 'Chevrolet TrailBlazer' 'Chevrolet Traverse' 'Chevrolet Trax'\n",
      " 'Chevrolet Volt' 'Chrysler 300' 'Chrysler Pacifica' 'Dodge Challenger'\n",
      " 'Dodge Charger' 'Dodge Durango' 'Dodge Grand Caravan' 'Dodge Journey'\n",
      " 'FIAT 124 Spider' 'FIAT 500L' 'FIAT 500X' 'FIAT 500' 'FIAT 500e'\n",
      " 'Ferrari 488 GTB' 'Ferrari GTC4Lusso' 'Ferrari Portofino' 'Ford Ecosport'\n",
      " 'Ford Edge' 'Ford Escape' 'Ford Expedition' 'Ford Explorer' 'Ford F-150'\n",
      " 'Ford Fiesta' 'Ford Flex' 'Ford Fusion' 'Ford Mustang' 'Ford Ranger'\n",
      " 'Ford Super Duty F-250' 'Ford Taurus' 'Ford Transit Connect Wagon'\n",
      " 'GMC Acadia' 'GMC Canyon' 'GMC Sierra 1500' 'GMC Sierra 2500HD'\n",
      " 'GMC Terrain' 'GMC Yukon' 'Genesis G70' 'Genesis G80' 'Genesis G90'\n",
      " 'Honda Accord' 'Honda CR-V' 'Honda Civic' 'Honda Clarity' 'Honda Fit'\n",
      " 'Honda HR-V' 'Honda Insight' 'Honda Odyssey' 'Honda Passport'\n",
      " 'Honda Pilot' 'Honda Ridgeline' 'Hyundai Accent' 'Hyundai Elantra'\n",
      " 'Hyundai Ioniq' 'Hyundai Kona Electric' 'Hyundai Kona' 'Hyundai NEXO'\n",
      " 'Hyundai Palisade' 'Hyundai Santa Fe' 'Hyundai Sonata' 'Hyundai Tucson'\n",
      " 'Hyundai Veloster' 'Hyundai Venue' 'INFINITI Q50' 'INFINITI Q60'\n",
      " 'INFINITI Q70' 'INFINITI QX30' 'INFINITI QX50' 'INFINITI QX60'\n",
      " 'INFINITI QX80' 'Jaguar E-Pace' 'Jaguar F-Pace' 'Jaguar F-Type'\n",
      " 'Jaguar I-Pace' 'Jaguar XE' 'Jaguar XF' 'Jaguar XJ' 'Jeep Cherokee'\n",
      " 'Jeep Compass' 'Jeep Gladiator' 'Jeep Grand Cherokee' 'Jeep Renegade'\n",
      " 'Jeep Wrangler' 'Kia Cadenza' 'Kia Forte' 'Kia K900' 'Kia Niro'\n",
      " 'Kia Optima' 'Kia Rio' 'Kia Sedona' 'Kia Sorento' 'Kia Soul EV'\n",
      " 'Kia Soul' 'Kia Sportage' 'Kia Stinger' 'Kia Telluride'\n",
      " 'Lamborghini Aventador' 'Lamborghini Huracan' 'Lamborghini Urus'\n",
      " 'Land Rover Defender' 'Land Rover Discovery Sport' 'Land Rover Discovery'\n",
      " 'Land Rover Range Rover Evoque' 'Land Rover Range Rover Sport'\n",
      " 'Land Rover Range Rover Velar' 'Land Rover Range Rover' 'Lexus ES'\n",
      " 'Lexus GS' 'Lexus GX' 'Lexus IS' 'Lexus LC' 'Lexus LS' 'Lexus LX'\n",
      " 'Lexus NX' 'Lexus RC' 'Lexus RX' 'Lexus UX' 'Lincoln Aviator'\n",
      " 'Lincoln Continental' 'Lincoln Corsair' 'Lincoln MKC' 'Lincoln MKT'\n",
      " 'Lincoln MKZ' 'Lincoln Nautilus' 'Lincoln Navigator' 'MINI Clubman'\n",
      " 'MINI Cooper Countryman' 'MINI Cooper' 'Maserati Ghibli'\n",
      " 'Maserati GranTurismo' 'Maserati Levante' 'Maserati Quattroporte'\n",
      " 'Mazda CX-30' 'Mazda CX-3' 'Mazda CX-5' 'Mazda CX-9' 'Mazda MAZDA3'\n",
      " 'Mazda MAZDA6' 'Mazda MX-5 Miata' 'Mazda Mazda3 Hatchback'\n",
      " 'McLaren 570GT' 'McLaren 570S' 'McLaren 720S' 'Mercedes-Benz A Class'\n",
      " 'Mercedes-Benz AMG GT' 'Mercedes-Benz C Class' 'Mercedes-Benz CLA Class'\n",
      " 'Mercedes-Benz CLS Class' 'Mercedes-Benz E Class' 'Mercedes-Benz EQC'\n",
      " 'Mercedes-Benz G Class' 'Mercedes-Benz GLA Class'\n",
      " 'Mercedes-Benz GLB Class' 'Mercedes-Benz GLC Class'\n",
      " 'Mercedes-Benz GLE Class' 'Mercedes-Benz GLS Class'\n",
      " 'Mercedes-Benz Metris' 'Mercedes-Benz S Class' 'Mercedes-Benz SL Class'\n",
      " 'Mercedes-Benz SLC Class' 'Mitsubishi Eclipse Cross' 'Mitsubishi Mirage'\n",
      " 'Mitsubishi Outlander Sport' 'Mitsubishi Outlander' 'Nissan 370Z'\n",
      " 'Nissan Altima' 'Nissan Armada' 'Nissan Frontier' 'Nissan GT-R'\n",
      " 'Nissan Kicks' 'Nissan Leaf' 'Nissan Maxima' 'Nissan Murano'\n",
      " 'Nissan NV200' 'Nissan Pathfinder' 'Nissan Rogue Sport' 'Nissan Rogue'\n",
      " 'Nissan Sentra' 'Nissan Titan' 'Nissan Versa' 'Porsche 718 Spyder'\n",
      " 'Porsche 718' 'Porsche 911' 'Porsche Cayenne' 'Porsche Macan'\n",
      " 'Porsche Panamera' 'Porsche Taycan' 'Ram 1500' 'Ram 2500'\n",
      " 'Rolls-Royce Cullinan' 'Rolls-Royce Dawn' 'Rolls-Royce Ghost'\n",
      " 'Rolls-Royce Phantom' 'Rolls-Royce Wraith' 'Subaru Ascent' 'Subaru BRZ'\n",
      " 'Subaru Crosstrek' 'Subaru Forester' 'Subaru Impreza' 'Subaru Legacy'\n",
      " 'Subaru Outback' 'Subaru STI S209' 'Subaru WRX' 'Tesla Model 3'\n",
      " 'Tesla Model S' 'Tesla Model X' 'Tesla Model Y' 'Toyota 4Runner'\n",
      " 'Toyota 86' 'Toyota Avalon' 'Toyota C-HR' 'Toyota Camry' 'Toyota Corolla'\n",
      " 'Toyota Highlander' 'Toyota Land Cruiser' 'Toyota Mirai' 'Toyota Prius C'\n",
      " 'Toyota Prius' 'Toyota RAV4' 'Toyota Sequoia' 'Toyota Sienna'\n",
      " 'Toyota Supra' 'Toyota Tacoma' 'Toyota Tundra' 'Toyota Yaris Hatchback'\n",
      " 'Toyota Yaris' 'Volkswagen Arteon' 'Volkswagen Atlas' 'Volkswagen Beetle'\n",
      " 'Volkswagen Golf' 'Volkswagen Jetta' 'Volkswagen Passat'\n",
      " 'Volkswagen Tiguan' 'Volkswagen e-Golf' 'Volvo S60' 'Volvo S90'\n",
      " 'Volvo V60' 'Volvo V90' 'Volvo XC40' 'Volvo XC60' 'Volvo XC90'\n",
      " 'smart fortwo']  \n"
     ]
    }
   ],
   "source": [
    "\n",
    "print(f\"The number of car models in the dataset is ({df['labels'].nunique()})\")\n",
    "print(f\"\"\"\\n============================================\n",
    "      The models we have in our dataset\n",
    "      \\n{df['labels'].unique()}  \"\"\")"
   ]
  },
  {
   "cell_type": "markdown",
   "id": "d6873c43",
   "metadata": {},
   "source": [
    "# Checking for data imbalance"
   ]
  },
  {
   "cell_type": "code",
   "execution_count": 40,
   "id": "26be8bd9",
   "metadata": {},
   "outputs": [
    {
     "name": "stdout",
     "output_type": "stream",
     "text": [
      "labels\n",
      "MINI Cooper               539\n",
      "Ford Ranger               504\n",
      "Ford F-150                485\n",
      "Honda Civic               480\n",
      "Chevrolet Colorado        479\n",
      "                         ... \n",
      "Toyota Yaris Hatchback      1\n",
      "Mazda Mazda3 Hatchback      1\n",
      "Ferrari Portofino           1\n",
      "Porsche 718 Spyder          1\n",
      "Subaru STI S209             1\n",
      "Name: count, Length: 323, dtype: int64\n"
     ]
    }
   ],
   "source": [
    "print(df['labels'].value_counts())"
   ]
  },
  {
   "cell_type": "markdown",
   "id": "0cc7e81a",
   "metadata": {},
   "source": [
    "## Since data imbalance was found to be present. We need to try to oversample the minorities class\n",
    "> **Note:** Since this isn't a tabular data I would prefer to use `Random Oversampler` as it duplicates already existing rows"
   ]
  },
  {
   "cell_type": "markdown",
   "id": "f013b3c1",
   "metadata": {},
   "source": [
    "### Splitting the data"
   ]
  },
  {
   "cell_type": "code",
   "execution_count": 41,
   "id": "849e11e2",
   "metadata": {},
   "outputs": [
    {
     "data": {
      "application/vnd.microsoft.datawrangler.viewer.v0+json": {
       "columns": [
        {
         "name": "index",
         "rawType": "int64",
         "type": "integer"
        },
        {
         "name": "image",
         "rawType": "object",
         "type": "string"
        }
       ],
       "conversionMethod": "pd.DataFrame",
       "ref": "4882e21a-e699-42fc-9892-8d9bb667e06f",
       "rows": [
        [
         "0",
         "data\\Acura_ILX_2013_28_16_110_15_4_70_55_179_39_FWD_5_4_4dr_Bbw.jpg"
        ],
        [
         "1",
         "data\\Acura_ILX_2013_28_16_110_15_4_70_55_179_39_FWD_5_4_4dr_Cvl.jpg"
        ],
        [
         "2",
         "data\\Acura_ILX_2013_28_16_110_15_4_70_55_179_39_FWD_5_4_4dr_Gzs.jpg"
        ],
        [
         "3",
         "data\\Acura_ILX_2013_28_16_110_15_4_70_55_179_39_FWD_5_4_4dr_Mro.jpg"
        ],
        [
         "4",
         "data\\Acura_ILX_2013_28_16_110_15_4_70_55_179_39_FWD_5_4_4dr_Ofi.jpg"
        ]
       ],
       "shape": {
        "columns": 1,
        "rows": 5
       }
      },
      "text/html": [
       "<div>\n",
       "<style scoped>\n",
       "    .dataframe tbody tr th:only-of-type {\n",
       "        vertical-align: middle;\n",
       "    }\n",
       "\n",
       "    .dataframe tbody tr th {\n",
       "        vertical-align: top;\n",
       "    }\n",
       "\n",
       "    .dataframe thead th {\n",
       "        text-align: right;\n",
       "    }\n",
       "</style>\n",
       "<table border=\"1\" class=\"dataframe\">\n",
       "  <thead>\n",
       "    <tr style=\"text-align: right;\">\n",
       "      <th></th>\n",
       "      <th>image</th>\n",
       "    </tr>\n",
       "  </thead>\n",
       "  <tbody>\n",
       "    <tr>\n",
       "      <th>0</th>\n",
       "      <td>data\\Acura_ILX_2013_28_16_110_15_4_70_55_179_3...</td>\n",
       "    </tr>\n",
       "    <tr>\n",
       "      <th>1</th>\n",
       "      <td>data\\Acura_ILX_2013_28_16_110_15_4_70_55_179_3...</td>\n",
       "    </tr>\n",
       "    <tr>\n",
       "      <th>2</th>\n",
       "      <td>data\\Acura_ILX_2013_28_16_110_15_4_70_55_179_3...</td>\n",
       "    </tr>\n",
       "    <tr>\n",
       "      <th>3</th>\n",
       "      <td>data\\Acura_ILX_2013_28_16_110_15_4_70_55_179_3...</td>\n",
       "    </tr>\n",
       "    <tr>\n",
       "      <th>4</th>\n",
       "      <td>data\\Acura_ILX_2013_28_16_110_15_4_70_55_179_3...</td>\n",
       "    </tr>\n",
       "  </tbody>\n",
       "</table>\n",
       "</div>"
      ],
      "text/plain": [
       "                                               image\n",
       "0  data\\Acura_ILX_2013_28_16_110_15_4_70_55_179_3...\n",
       "1  data\\Acura_ILX_2013_28_16_110_15_4_70_55_179_3...\n",
       "2  data\\Acura_ILX_2013_28_16_110_15_4_70_55_179_3...\n",
       "3  data\\Acura_ILX_2013_28_16_110_15_4_70_55_179_3...\n",
       "4  data\\Acura_ILX_2013_28_16_110_15_4_70_55_179_3..."
      ]
     },
     "execution_count": 41,
     "metadata": {},
     "output_type": "execute_result"
    }
   ],
   "source": [
    "y = df['labels']\n",
    "df = df.drop('labels',axis=1)\n",
    "df.head()"
   ]
  },
  {
   "cell_type": "code",
   "execution_count": 42,
   "id": "00d9bd82",
   "metadata": {},
   "outputs": [],
   "source": [
    "# Intiating our sampler\n",
    "ros = RandomOverSampler(random_state=42)\n",
    "\n",
    "df, y_resampled = ros.fit_resample(df,y)\n",
    "\n",
    "# Deleting the Original y variable data to save memory and prevent any intercept\n",
    "del y \n",
    "\n",
    "df['labels'] = y_resampled\n",
    "\n",
    "# Deleteing the temporary resampled variable\n",
    "del y_resampled"
   ]
  },
  {
   "cell_type": "markdown",
   "id": "253ee2ba",
   "metadata": {},
   "source": [
    "### Viewing the new data head, shape and checking for the data imbalance once again"
   ]
  },
  {
   "cell_type": "code",
   "execution_count": 43,
   "id": "e2cede66",
   "metadata": {},
   "outputs": [
    {
     "data": {
      "application/vnd.microsoft.datawrangler.viewer.v0+json": {
       "columns": [
        {
         "name": "index",
         "rawType": "int64",
         "type": "integer"
        },
        {
         "name": "image",
         "rawType": "object",
         "type": "string"
        },
        {
         "name": "labels",
         "rawType": "object",
         "type": "string"
        }
       ],
       "conversionMethod": "pd.DataFrame",
       "ref": "5933eb6f-2c65-45ef-9649-33da44c72a37",
       "rows": [
        [
         "0",
         "data\\Acura_ILX_2013_28_16_110_15_4_70_55_179_39_FWD_5_4_4dr_Bbw.jpg",
         "Acura ILX"
        ],
        [
         "1",
         "data\\Acura_ILX_2013_28_16_110_15_4_70_55_179_39_FWD_5_4_4dr_Cvl.jpg",
         "Acura ILX"
        ],
        [
         "2",
         "data\\Acura_ILX_2013_28_16_110_15_4_70_55_179_39_FWD_5_4_4dr_Gzs.jpg",
         "Acura ILX"
        ],
        [
         "3",
         "data\\Acura_ILX_2013_28_16_110_15_4_70_55_179_39_FWD_5_4_4dr_Mro.jpg",
         "Acura ILX"
        ],
        [
         "4",
         "data\\Acura_ILX_2013_28_16_110_15_4_70_55_179_39_FWD_5_4_4dr_Ofi.jpg",
         "Acura ILX"
        ]
       ],
       "shape": {
        "columns": 2,
        "rows": 5
       }
      },
      "text/html": [
       "<div>\n",
       "<style scoped>\n",
       "    .dataframe tbody tr th:only-of-type {\n",
       "        vertical-align: middle;\n",
       "    }\n",
       "\n",
       "    .dataframe tbody tr th {\n",
       "        vertical-align: top;\n",
       "    }\n",
       "\n",
       "    .dataframe thead th {\n",
       "        text-align: right;\n",
       "    }\n",
       "</style>\n",
       "<table border=\"1\" class=\"dataframe\">\n",
       "  <thead>\n",
       "    <tr style=\"text-align: right;\">\n",
       "      <th></th>\n",
       "      <th>image</th>\n",
       "      <th>labels</th>\n",
       "    </tr>\n",
       "  </thead>\n",
       "  <tbody>\n",
       "    <tr>\n",
       "      <th>0</th>\n",
       "      <td>data\\Acura_ILX_2013_28_16_110_15_4_70_55_179_3...</td>\n",
       "      <td>Acura ILX</td>\n",
       "    </tr>\n",
       "    <tr>\n",
       "      <th>1</th>\n",
       "      <td>data\\Acura_ILX_2013_28_16_110_15_4_70_55_179_3...</td>\n",
       "      <td>Acura ILX</td>\n",
       "    </tr>\n",
       "    <tr>\n",
       "      <th>2</th>\n",
       "      <td>data\\Acura_ILX_2013_28_16_110_15_4_70_55_179_3...</td>\n",
       "      <td>Acura ILX</td>\n",
       "    </tr>\n",
       "    <tr>\n",
       "      <th>3</th>\n",
       "      <td>data\\Acura_ILX_2013_28_16_110_15_4_70_55_179_3...</td>\n",
       "      <td>Acura ILX</td>\n",
       "    </tr>\n",
       "    <tr>\n",
       "      <th>4</th>\n",
       "      <td>data\\Acura_ILX_2013_28_16_110_15_4_70_55_179_3...</td>\n",
       "      <td>Acura ILX</td>\n",
       "    </tr>\n",
       "  </tbody>\n",
       "</table>\n",
       "</div>"
      ],
      "text/plain": [
       "                                               image     labels\n",
       "0  data\\Acura_ILX_2013_28_16_110_15_4_70_55_179_3...  Acura ILX\n",
       "1  data\\Acura_ILX_2013_28_16_110_15_4_70_55_179_3...  Acura ILX\n",
       "2  data\\Acura_ILX_2013_28_16_110_15_4_70_55_179_3...  Acura ILX\n",
       "3  data\\Acura_ILX_2013_28_16_110_15_4_70_55_179_3...  Acura ILX\n",
       "4  data\\Acura_ILX_2013_28_16_110_15_4_70_55_179_3...  Acura ILX"
      ]
     },
     "execution_count": 43,
     "metadata": {},
     "output_type": "execute_result"
    }
   ],
   "source": [
    "df.head()"
   ]
  },
  {
   "cell_type": "code",
   "execution_count": 44,
   "id": "0b21aec0",
   "metadata": {},
   "outputs": [
    {
     "data": {
      "text/plain": [
       "(174097, 2)"
      ]
     },
     "execution_count": 44,
     "metadata": {},
     "output_type": "execute_result"
    }
   ],
   "source": [
    "df.shape"
   ]
  },
  {
   "cell_type": "code",
   "execution_count": 45,
   "id": "fc2bc3a6",
   "metadata": {},
   "outputs": [
    {
     "name": "stdout",
     "output_type": "stream",
     "text": [
      "labels\n",
      "smart fortwo            539\n",
      "Acura ILX               539\n",
      "Acura MDX               539\n",
      "Subaru WRX              539\n",
      "Tesla Model 3           539\n",
      "                       ... \n",
      "Alfa Romeo 4C Spider    539\n",
      "Alfa Romeo 4C           539\n",
      "Alfa Romeo Giulia       539\n",
      "Alfa Romeo Stelvio      539\n",
      "Aston Martin DB11       539\n",
      "Name: count, Length: 323, dtype: int64\n"
     ]
    }
   ],
   "source": [
    "print(df['labels'].value_counts())"
   ]
  },
  {
   "cell_type": "markdown",
   "id": "7c8aaf01",
   "metadata": {},
   "source": [
    "# Segmenting a smaller part from our dataset so the training is faster"
   ]
  },
  {
   "cell_type": "code",
   "execution_count": 46,
   "id": "a3ca44c0",
   "metadata": {},
   "outputs": [],
   "source": [
    "df = df.sample(int(10e4))"
   ]
  },
  {
   "cell_type": "markdown",
   "id": "2a264d32",
   "metadata": {},
   "source": [
    "# Creating a dataset from our pandas data frame so we can feed it using the data loader"
   ]
  },
  {
   "cell_type": "code",
   "execution_count": 47,
   "id": "7a091a53",
   "metadata": {},
   "outputs": [
    {
     "data": {
      "image/jpeg": "[encoded data removed]",
      "image/png": "[encoded data removed]",
      "text/plain": [
       "<PIL.JpegImagePlugin.JpegImageFile image mode=RGB size=320x240>"
      ]
     },
     "execution_count": 47,
     "metadata": {},
     "output_type": "execute_result"
    }
   ],
   "source": [
    "ds = Dataset.from_pandas(df).cast_column('image', Image())\n",
    "\"\"\"\n",
    "Converts a Pandas DataFrame (df) into a Hugging Face Dataset object.\n",
    "The cast_column method changes the type of a specific column in the dataset.\n",
    "Image() is a special Hugging Face datasets feature type that represents image files.\n",
    "\"\"\"\n",
    "\n",
    "# Example from our dataset\n",
    "ds[21]['image']"
   ]
  },
  {
   "cell_type": "markdown",
   "id": "b1e5ef01",
   "metadata": {},
   "source": [
    "# Creating the labels2id and id2labels dictionaries which are necessary for our transformer training"
   ]
  },
  {
   "cell_type": "code",
   "execution_count": 48,
   "id": "fb28bdac",
   "metadata": {},
   "outputs": [
    {
     "name": "stdout",
     "output_type": "stream",
     "text": [
      "{'Acura ILX': 0, 'Acura MDX': 1, 'Acura NSX': 2, 'Acura RDX': 3, 'Acura RLX': 4, 'Acura TLX': 5, 'Alfa Romeo 4C': 6, 'Alfa Romeo 4C Spider': 7, 'Alfa Romeo Giulia': 8, 'Alfa Romeo Stelvio': 9, 'Aston Martin DB11': 10, 'Aston Martin DBS': 11, 'Aston Martin Vanquish': 12, 'Aston Martin Vantage': 13, 'Audi A3': 14, 'Audi A4': 15, 'Audi A5': 16, 'Audi A6': 17, 'Audi A7': 18, 'Audi A8': 19, 'Audi Q3': 20, 'Audi Q5': 21, 'Audi Q7': 22, 'Audi Q8': 23, 'Audi R8': 24, 'Audi TT': 25, 'Audi e-tron': 26, 'BMW 2-Series': 27, 'BMW 3-Series': 28, 'BMW 4-Series': 29, 'BMW 5-Series': 30, 'BMW 6-Series': 31, 'BMW 7-Series': 32, 'BMW 8-Series': 33, 'BMW X1': 34, 'BMW X2': 35, 'BMW X3': 36, 'BMW X4': 37, 'BMW X5': 38, 'BMW X6': 39, 'BMW X7': 40, 'BMW Z4': 41, 'BMW i3': 42, 'BMW i8': 43, 'Bentley Bentayga': 44, 'Bentley Continental GT': 45, 'Bentley Flying Spur': 46, 'Bentley Mulsanne': 47, 'Buick Cascada': 48, 'Buick Enclave': 49, 'Buick Encore': 50, 'Buick Envision': 51, 'Buick Lacrosse': 52, 'Buick Regal': 53, 'Cadillac ATS': 54, 'Cadillac CT4': 55, 'Cadillac CT5': 56, 'Cadillac CT6': 57, 'Cadillac CTS': 58, 'Cadillac Escalade': 59, 'Cadillac XT4': 60, 'Cadillac XT5': 61, 'Cadillac XT6': 62, 'Cadillac XTS': 63, 'Chevrolet Blazer': 64, 'Chevrolet Bolt EV': 65, 'Chevrolet Camaro': 66, 'Chevrolet Colorado': 67, 'Chevrolet Corvette': 68, 'Chevrolet Cruze': 69, 'Chevrolet Equinox': 70, 'Chevrolet Impala': 71, 'Chevrolet Malibu': 72, 'Chevrolet Silverado 1500': 73, 'Chevrolet Silverado 2500HD': 74, 'Chevrolet Sonic': 75, 'Chevrolet Spark': 76, 'Chevrolet Suburban': 77, 'Chevrolet Tahoe': 78, 'Chevrolet TrailBlazer': 79, 'Chevrolet Traverse': 80, 'Chevrolet Trax': 81, 'Chevrolet Volt': 82, 'Chrysler 300': 83, 'Chrysler Pacifica': 84, 'Dodge Challenger': 85, 'Dodge Charger': 86, 'Dodge Durango': 87, 'Dodge Grand Caravan': 88, 'Dodge Journey': 89, 'FIAT 124 Spider': 90, 'FIAT 500': 91, 'FIAT 500L': 92, 'FIAT 500X': 93, 'FIAT 500e': 94, 'Ferrari 488 GTB': 95, 'Ferrari GTC4Lusso': 96, 'Ferrari Portofino': 97, 'Ford Ecosport': 98, 'Ford Edge': 99, 'Ford Escape': 100, 'Ford Expedition': 101, 'Ford Explorer': 102, 'Ford F-150': 103, 'Ford Fiesta': 104, 'Ford Flex': 105, 'Ford Fusion': 106, 'Ford Mustang': 107, 'Ford Ranger': 108, 'Ford Super Duty F-250': 109, 'Ford Taurus': 110, 'Ford Transit Connect Wagon': 111, 'GMC Acadia': 112, 'GMC Canyon': 113, 'GMC Sierra 1500': 114, 'GMC Sierra 2500HD': 115, 'GMC Terrain': 116, 'GMC Yukon': 117, 'Genesis G70': 118, 'Genesis G80': 119, 'Genesis G90': 120, 'Honda Accord': 121, 'Honda CR-V': 122, 'Honda Civic': 123, 'Honda Clarity': 124, 'Honda Fit': 125, 'Honda HR-V': 126, 'Honda Insight': 127, 'Honda Odyssey': 128, 'Honda Passport': 129, 'Honda Pilot': 130, 'Honda Ridgeline': 131, 'Hyundai Accent': 132, 'Hyundai Elantra': 133, 'Hyundai Ioniq': 134, 'Hyundai Kona': 135, 'Hyundai Kona Electric': 136, 'Hyundai NEXO': 137, 'Hyundai Palisade': 138, 'Hyundai Santa Fe': 139, 'Hyundai Sonata': 140, 'Hyundai Tucson': 141, 'Hyundai Veloster': 142, 'Hyundai Venue': 143, 'INFINITI Q50': 144, 'INFINITI Q60': 145, 'INFINITI Q70': 146, 'INFINITI QX30': 147, 'INFINITI QX50': 148, 'INFINITI QX60': 149, 'INFINITI QX80': 150, 'Jaguar E-Pace': 151, 'Jaguar F-Pace': 152, 'Jaguar F-Type': 153, 'Jaguar I-Pace': 154, 'Jaguar XE': 155, 'Jaguar XF': 156, 'Jaguar XJ': 157, 'Jeep Cherokee': 158, 'Jeep Compass': 159, 'Jeep Gladiator': 160, 'Jeep Grand Cherokee': 161, 'Jeep Renegade': 162, 'Jeep Wrangler': 163, 'Kia Cadenza': 164, 'Kia Forte': 165, 'Kia K900': 166, 'Kia Niro': 167, 'Kia Optima': 168, 'Kia Rio': 169, 'Kia Sedona': 170, 'Kia Sorento': 171, 'Kia Soul': 172, 'Kia Soul EV': 173, 'Kia Sportage': 174, 'Kia Stinger': 175, 'Kia Telluride': 176, 'Lamborghini Aventador': 177, 'Lamborghini Huracan': 178, 'Lamborghini Urus': 179, 'Land Rover Defender': 180, 'Land Rover Discovery': 181, 'Land Rover Discovery Sport': 182, 'Land Rover Range Rover': 183, 'Land Rover Range Rover Evoque': 184, 'Land Rover Range Rover Sport': 185, 'Land Rover Range Rover Velar': 186, 'Lexus ES': 187, 'Lexus GS': 188, 'Lexus GX': 189, 'Lexus IS': 190, 'Lexus LC': 191, 'Lexus LS': 192, 'Lexus LX': 193, 'Lexus NX': 194, 'Lexus RC': 195, 'Lexus RX': 196, 'Lexus UX': 197, 'Lincoln Aviator': 198, 'Lincoln Continental': 199, 'Lincoln Corsair': 200, 'Lincoln MKC': 201, 'Lincoln MKT': 202, 'Lincoln MKZ': 203, 'Lincoln Nautilus': 204, 'Lincoln Navigator': 205, 'MINI Clubman': 206, 'MINI Cooper': 207, 'MINI Cooper Countryman': 208, 'Maserati Ghibli': 209, 'Maserati GranTurismo': 210, 'Maserati Levante': 211, 'Maserati Quattroporte': 212, 'Mazda CX-3': 213, 'Mazda CX-30': 214, 'Mazda CX-5': 215, 'Mazda CX-9': 216, 'Mazda MAZDA3': 217, 'Mazda MAZDA6': 218, 'Mazda MX-5 Miata': 219, 'Mazda Mazda3 Hatchback': 220, 'McLaren 570GT': 221, 'McLaren 570S': 222, 'McLaren 720S': 223, 'Mercedes-Benz A Class': 224, 'Mercedes-Benz AMG GT': 225, 'Mercedes-Benz C Class': 226, 'Mercedes-Benz CLA Class': 227, 'Mercedes-Benz CLS Class': 228, 'Mercedes-Benz E Class': 229, 'Mercedes-Benz EQC': 230, 'Mercedes-Benz G Class': 231, 'Mercedes-Benz GLA Class': 232, 'Mercedes-Benz GLB Class': 233, 'Mercedes-Benz GLC Class': 234, 'Mercedes-Benz GLE Class': 235, 'Mercedes-Benz GLS Class': 236, 'Mercedes-Benz Metris': 237, 'Mercedes-Benz S Class': 238, 'Mercedes-Benz SL Class': 239, 'Mercedes-Benz SLC Class': 240, 'Mitsubishi Eclipse Cross': 241, 'Mitsubishi Mirage': 242, 'Mitsubishi Outlander': 243, 'Mitsubishi Outlander Sport': 244, 'Nissan 370Z': 245, 'Nissan Altima': 246, 'Nissan Armada': 247, 'Nissan Frontier': 248, 'Nissan GT-R': 249, 'Nissan Kicks': 250, 'Nissan Leaf': 251, 'Nissan Maxima': 252, 'Nissan Murano': 253, 'Nissan NV200': 254, 'Nissan Pathfinder': 255, 'Nissan Rogue': 256, 'Nissan Rogue Sport': 257, 'Nissan Sentra': 258, 'Nissan Titan': 259, 'Nissan Versa': 260, 'Porsche 718': 261, 'Porsche 718 Spyder': 262, 'Porsche 911': 263, 'Porsche Cayenne': 264, 'Porsche Macan': 265, 'Porsche Panamera': 266, 'Porsche Taycan': 267, 'Ram 1500': 268, 'Ram 2500': 269, 'Rolls-Royce Cullinan': 270, 'Rolls-Royce Dawn': 271, 'Rolls-Royce Ghost': 272, 'Rolls-Royce Phantom': 273, 'Rolls-Royce Wraith': 274, 'Subaru Ascent': 275, 'Subaru BRZ': 276, 'Subaru Crosstrek': 277, 'Subaru Forester': 278, 'Subaru Impreza': 279, 'Subaru Legacy': 280, 'Subaru Outback': 281, 'Subaru STI S209': 282, 'Subaru WRX': 283, 'Tesla Model 3': 284, 'Tesla Model S': 285, 'Tesla Model X': 286, 'Tesla Model Y': 287, 'Toyota 4Runner': 288, 'Toyota 86': 289, 'Toyota Avalon': 290, 'Toyota C-HR': 291, 'Toyota Camry': 292, 'Toyota Corolla': 293, 'Toyota Highlander': 294, 'Toyota Land Cruiser': 295, 'Toyota Mirai': 296, 'Toyota Prius': 297, 'Toyota Prius C': 298, 'Toyota RAV4': 299, 'Toyota Sequoia': 300, 'Toyota Sienna': 301, 'Toyota Supra': 302, 'Toyota Tacoma': 303, 'Toyota Tundra': 304, 'Toyota Yaris': 305, 'Toyota Yaris Hatchback': 306, 'Volkswagen Arteon': 307, 'Volkswagen Atlas': 308, 'Volkswagen Beetle': 309, 'Volkswagen Golf': 310, 'Volkswagen Jetta': 311, 'Volkswagen Passat': 312, 'Volkswagen Tiguan': 313, 'Volkswagen e-Golf': 314, 'Volvo S60': 315, 'Volvo S90': 316, 'Volvo V60': 317, 'Volvo V90': 318, 'Volvo XC40': 319, 'Volvo XC60': 320, 'Volvo XC90': 321, 'smart fortwo': 322}\n",
      "====================================\n",
      "{0: 'Acura ILX', 1: 'Acura MDX', 2: 'Acura NSX', 3: 'Acura RDX', 4: 'Acura RLX', 5: 'Acura TLX', 6: 'Alfa Romeo 4C', 7: 'Alfa Romeo 4C Spider', 8: 'Alfa Romeo Giulia', 9: 'Alfa Romeo Stelvio', 10: 'Aston Martin DB11', 11: 'Aston Martin DBS', 12: 'Aston Martin Vanquish', 13: 'Aston Martin Vantage', 14: 'Audi A3', 15: 'Audi A4', 16: 'Audi A5', 17: 'Audi A6', 18: 'Audi A7', 19: 'Audi A8', 20: 'Audi Q3', 21: 'Audi Q5', 22: 'Audi Q7', 23: 'Audi Q8', 24: 'Audi R8', 25: 'Audi TT', 26: 'Audi e-tron', 27: 'BMW 2-Series', 28: 'BMW 3-Series', 29: 'BMW 4-Series', 30: 'BMW 5-Series', 31: 'BMW 6-Series', 32: 'BMW 7-Series', 33: 'BMW 8-Series', 34: 'BMW X1', 35: 'BMW X2', 36: 'BMW X3', 37: 'BMW X4', 38: 'BMW X5', 39: 'BMW X6', 40: 'BMW X7', 41: 'BMW Z4', 42: 'BMW i3', 43: 'BMW i8', 44: 'Bentley Bentayga', 45: 'Bentley Continental GT', 46: 'Bentley Flying Spur', 47: 'Bentley Mulsanne', 48: 'Buick Cascada', 49: 'Buick Enclave', 50: 'Buick Encore', 51: 'Buick Envision', 52: 'Buick Lacrosse', 53: 'Buick Regal', 54: 'Cadillac ATS', 55: 'Cadillac CT4', 56: 'Cadillac CT5', 57: 'Cadillac CT6', 58: 'Cadillac CTS', 59: 'Cadillac Escalade', 60: 'Cadillac XT4', 61: 'Cadillac XT5', 62: 'Cadillac XT6', 63: 'Cadillac XTS', 64: 'Chevrolet Blazer', 65: 'Chevrolet Bolt EV', 66: 'Chevrolet Camaro', 67: 'Chevrolet Colorado', 68: 'Chevrolet Corvette', 69: 'Chevrolet Cruze', 70: 'Chevrolet Equinox', 71: 'Chevrolet Impala', 72: 'Chevrolet Malibu', 73: 'Chevrolet Silverado 1500', 74: 'Chevrolet Silverado 2500HD', 75: 'Chevrolet Sonic', 76: 'Chevrolet Spark', 77: 'Chevrolet Suburban', 78: 'Chevrolet Tahoe', 79: 'Chevrolet TrailBlazer', 80: 'Chevrolet Traverse', 81: 'Chevrolet Trax', 82: 'Chevrolet Volt', 83: 'Chrysler 300', 84: 'Chrysler Pacifica', 85: 'Dodge Challenger', 86: 'Dodge Charger', 87: 'Dodge Durango', 88: 'Dodge Grand Caravan', 89: 'Dodge Journey', 90: 'FIAT 124 Spider', 91: 'FIAT 500', 92: 'FIAT 500L', 93: 'FIAT 500X', 94: 'FIAT 500e', 95: 'Ferrari 488 GTB', 96: 'Ferrari GTC4Lusso', 97: 'Ferrari Portofino', 98: 'Ford Ecosport', 99: 'Ford Edge', 100: 'Ford Escape', 101: 'Ford Expedition', 102: 'Ford Explorer', 103: 'Ford F-150', 104: 'Ford Fiesta', 105: 'Ford Flex', 106: 'Ford Fusion', 107: 'Ford Mustang', 108: 'Ford Ranger', 109: 'Ford Super Duty F-250', 110: 'Ford Taurus', 111: 'Ford Transit Connect Wagon', 112: 'GMC Acadia', 113: 'GMC Canyon', 114: 'GMC Sierra 1500', 115: 'GMC Sierra 2500HD', 116: 'GMC Terrain', 117: 'GMC Yukon', 118: 'Genesis G70', 119: 'Genesis G80', 120: 'Genesis G90', 121: 'Honda Accord', 122: 'Honda CR-V', 123: 'Honda Civic', 124: 'Honda Clarity', 125: 'Honda Fit', 126: 'Honda HR-V', 127: 'Honda Insight', 128: 'Honda Odyssey', 129: 'Honda Passport', 130: 'Honda Pilot', 131: 'Honda Ridgeline', 132: 'Hyundai Accent', 133: 'Hyundai Elantra', 134: 'Hyundai Ioniq', 135: 'Hyundai Kona', 136: 'Hyundai Kona Electric', 137: 'Hyundai NEXO', 138: 'Hyundai Palisade', 139: 'Hyundai Santa Fe', 140: 'Hyundai Sonata', 141: 'Hyundai Tucson', 142: 'Hyundai Veloster', 143: 'Hyundai Venue', 144: 'INFINITI Q50', 145: 'INFINITI Q60', 146: 'INFINITI Q70', 147: 'INFINITI QX30', 148: 'INFINITI QX50', 149: 'INFINITI QX60', 150: 'INFINITI QX80', 151: 'Jaguar E-Pace', 152: 'Jaguar F-Pace', 153: 'Jaguar F-Type', 154: 'Jaguar I-Pace', 155: 'Jaguar XE', 156: 'Jaguar XF', 157: 'Jaguar XJ', 158: 'Jeep Cherokee', 159: 'Jeep Compass', 160: 'Jeep Gladiator', 161: 'Jeep Grand Cherokee', 162: 'Jeep Renegade', 163: 'Jeep Wrangler', 164: 'Kia Cadenza', 165: 'Kia Forte', 166: 'Kia K900', 167: 'Kia Niro', 168: 'Kia Optima', 169: 'Kia Rio', 170: 'Kia Sedona', 171: 'Kia Sorento', 172: 'Kia Soul', 173: 'Kia Soul EV', 174: 'Kia Sportage', 175: 'Kia Stinger', 176: 'Kia Telluride', 177: 'Lamborghini Aventador', 178: 'Lamborghini Huracan', 179: 'Lamborghini Urus', 180: 'Land Rover Defender', 181: 'Land Rover Discovery', 182: 'Land Rover Discovery Sport', 183: 'Land Rover Range Rover', 184: 'Land Rover Range Rover Evoque', 185: 'Land Rover Range Rover Sport', 186: 'Land Rover Range Rover Velar', 187: 'Lexus ES', 188: 'Lexus GS', 189: 'Lexus GX', 190: 'Lexus IS', 191: 'Lexus LC', 192: 'Lexus LS', 193: 'Lexus LX', 194: 'Lexus NX', 195: 'Lexus RC', 196: 'Lexus RX', 197: 'Lexus UX', 198: 'Lincoln Aviator', 199: 'Lincoln Continental', 200: 'Lincoln Corsair', 201: 'Lincoln MKC', 202: 'Lincoln MKT', 203: 'Lincoln MKZ', 204: 'Lincoln Nautilus', 205: 'Lincoln Navigator', 206: 'MINI Clubman', 207: 'MINI Cooper', 208: 'MINI Cooper Countryman', 209: 'Maserati Ghibli', 210: 'Maserati GranTurismo', 211: 'Maserati Levante', 212: 'Maserati Quattroporte', 213: 'Mazda CX-3', 214: 'Mazda CX-30', 215: 'Mazda CX-5', 216: 'Mazda CX-9', 217: 'Mazda MAZDA3', 218: 'Mazda MAZDA6', 219: 'Mazda MX-5 Miata', 220: 'Mazda Mazda3 Hatchback', 221: 'McLaren 570GT', 222: 'McLaren 570S', 223: 'McLaren 720S', 224: 'Mercedes-Benz A Class', 225: 'Mercedes-Benz AMG GT', 226: 'Mercedes-Benz C Class', 227: 'Mercedes-Benz CLA Class', 228: 'Mercedes-Benz CLS Class', 229: 'Mercedes-Benz E Class', 230: 'Mercedes-Benz EQC', 231: 'Mercedes-Benz G Class', 232: 'Mercedes-Benz GLA Class', 233: 'Mercedes-Benz GLB Class', 234: 'Mercedes-Benz GLC Class', 235: 'Mercedes-Benz GLE Class', 236: 'Mercedes-Benz GLS Class', 237: 'Mercedes-Benz Metris', 238: 'Mercedes-Benz S Class', 239: 'Mercedes-Benz SL Class', 240: 'Mercedes-Benz SLC Class', 241: 'Mitsubishi Eclipse Cross', 242: 'Mitsubishi Mirage', 243: 'Mitsubishi Outlander', 244: 'Mitsubishi Outlander Sport', 245: 'Nissan 370Z', 246: 'Nissan Altima', 247: 'Nissan Armada', 248: 'Nissan Frontier', 249: 'Nissan GT-R', 250: 'Nissan Kicks', 251: 'Nissan Leaf', 252: 'Nissan Maxima', 253: 'Nissan Murano', 254: 'Nissan NV200', 255: 'Nissan Pathfinder', 256: 'Nissan Rogue', 257: 'Nissan Rogue Sport', 258: 'Nissan Sentra', 259: 'Nissan Titan', 260: 'Nissan Versa', 261: 'Porsche 718', 262: 'Porsche 718 Spyder', 263: 'Porsche 911', 264: 'Porsche Cayenne', 265: 'Porsche Macan', 266: 'Porsche Panamera', 267: 'Porsche Taycan', 268: 'Ram 1500', 269: 'Ram 2500', 270: 'Rolls-Royce Cullinan', 271: 'Rolls-Royce Dawn', 272: 'Rolls-Royce Ghost', 273: 'Rolls-Royce Phantom', 274: 'Rolls-Royce Wraith', 275: 'Subaru Ascent', 276: 'Subaru BRZ', 277: 'Subaru Crosstrek', 278: 'Subaru Forester', 279: 'Subaru Impreza', 280: 'Subaru Legacy', 281: 'Subaru Outback', 282: 'Subaru STI S209', 283: 'Subaru WRX', 284: 'Tesla Model 3', 285: 'Tesla Model S', 286: 'Tesla Model X', 287: 'Tesla Model Y', 288: 'Toyota 4Runner', 289: 'Toyota 86', 290: 'Toyota Avalon', 291: 'Toyota C-HR', 292: 'Toyota Camry', 293: 'Toyota Corolla', 294: 'Toyota Highlander', 295: 'Toyota Land Cruiser', 296: 'Toyota Mirai', 297: 'Toyota Prius', 298: 'Toyota Prius C', 299: 'Toyota RAV4', 300: 'Toyota Sequoia', 301: 'Toyota Sienna', 302: 'Toyota Supra', 303: 'Toyota Tacoma', 304: 'Toyota Tundra', 305: 'Toyota Yaris', 306: 'Toyota Yaris Hatchback', 307: 'Volkswagen Arteon', 308: 'Volkswagen Atlas', 309: 'Volkswagen Beetle', 310: 'Volkswagen Golf', 311: 'Volkswagen Jetta', 312: 'Volkswagen Passat', 313: 'Volkswagen Tiguan', 314: 'Volkswagen e-Golf', 315: 'Volvo S60', 316: 'Volvo S90', 317: 'Volvo V60', 318: 'Volvo V90', 319: 'Volvo XC40', 320: 'Volvo XC60', 321: 'Volvo XC90', 322: 'smart fortwo'}\n"
     ]
    }
   ],
   "source": [
    "labels_list = sorted(list(set(labels)))\n",
    "\"\"\"\n",
    "This Creates a set from our labels which prevent the presence of any duplicates\n",
    "then append it to a list that finally gets sorted\n",
    "\"\"\"\n",
    "\n",
    "# Intializing the labels2id and id2labels dictionaries\n",
    "label2id, id2label = dict(), dict()\n",
    "\n",
    "for i, labels in enumerate(labels_list):\n",
    "    label2id[labels] = i         # Links the labels itself to the index aka id\n",
    "    id2label[i] = labels         # Links the index (ID) to the labels name\n",
    "\n",
    "print(label2id)\n",
    "print(\"====================================\")\n",
    "print(id2label)"
   ]
  },
  {
   "cell_type": "markdown",
   "id": "dfb93f97",
   "metadata": {},
   "source": [
    "# Creating classlabels to encode our data in the dataset"
   ]
  },
  {
   "cell_type": "code",
   "execution_count": 49,
   "id": "ff7c8d19",
   "metadata": {},
   "outputs": [
    {
     "data": {
      "application/vnd.jupyter.widget-view+json": {
       "model_id": "81778c4f016f450bad0dd30d74aacd33",
       "version_major": 2,
       "version_minor": 0
      },
      "text/plain": [
       "Map:   0%|          | 0/100000 [00:00<?, ? examples/s]"
      ]
     },
     "metadata": {},
     "output_type": "display_data"
    },
    {
     "data": {
      "application/vnd.jupyter.widget-view+json": {
       "model_id": "1025576782ef46208cbc43c729d06508",
       "version_major": 2,
       "version_minor": 0
      },
      "text/plain": [
       "Casting the dataset:   0%|          | 0/100000 [00:00<?, ? examples/s]"
      ]
     },
     "metadata": {},
     "output_type": "display_data"
    }
   ],
   "source": [
    "from datasets import ClassLabel\n",
    "\n",
    "class_labels = ClassLabel(names=labels_list)\n",
    "\n",
    "# Map string labels to IDs\n",
    "def map_labels2id(example):\n",
    "    example['labels'] = class_labels.str2int(example['labels'])\n",
    "    return example\n",
    "\n",
    "# Map function to dataset\n",
    "ds = ds.map(map_labels2id, batched=True)\n",
    "\n",
    "# Cast 'labels' column to Classlabels type\n",
    "ds = ds.cast_column('labels', class_labels)\n"
   ]
  },
  {
   "cell_type": "markdown",
   "id": "0eb3b29b",
   "metadata": {},
   "source": [
    "# Splitting the data after the preprocessing to train and test sets"
   ]
  },
  {
   "cell_type": "code",
   "execution_count": 50,
   "id": "9b3edb80",
   "metadata": {},
   "outputs": [
    {
     "name": "stdout",
     "output_type": "stream",
     "text": [
      "DatasetDict({\n",
      "    train: Dataset({\n",
      "        features: ['image', 'labels', '__index_level_0__'],\n",
      "        num_rows: 60000\n",
      "    })\n",
      "    test: Dataset({\n",
      "        features: ['image', 'labels', '__index_level_0__'],\n",
      "        num_rows: 40000\n",
      "    })\n",
      "})\n"
     ]
    }
   ],
   "source": [
    "ds = ds.train_test_split(test_size=0.4, shuffle=True, stratify_by_column=\"labels\")\n",
    "# `stratify_by_column` It ensures the train and test splits preserve the same class distribution as the original dataset based on the \"labels\" column.\n",
    "\n",
    "print(ds)\n",
    "\n",
    "# Extracting the training data from the split dataset.\n",
    "train_data = ds['train']\n",
    "\n",
    "# Extracting the testing data from the split dataset.\n",
    "test_data = ds['test']"
   ]
  },
  {
   "cell_type": "markdown",
   "id": "7621fe94",
   "metadata": {},
   "source": [
    "# Setting up our images for model training"
   ]
  },
  {
   "cell_type": "code",
   "execution_count": 51,
   "id": "8aa180e9",
   "metadata": {},
   "outputs": [],
   "source": [
    "from transformers import ViTImageProcessor\n",
    "\n",
    "# Intiating the image processor for that model\n",
    "processor = ViTImageProcessor('google/vit-base-patch16-224-in21k')\n"
   ]
  },
  {
   "cell_type": "markdown",
   "id": "554320fa",
   "metadata": {},
   "source": [
    "## Pre-processing our images before feeding it into our mode"
   ]
  },
  {
   "cell_type": "code",
   "execution_count": 52,
   "id": "585aa719",
   "metadata": {},
   "outputs": [],
   "source": [
    "# Getting the variables needed for image normalization\n",
    "img_mean, img_std = processor.image_mean, processor.image_std"
   ]
  },
  {
   "cell_type": "code",
   "execution_count": 53,
   "id": "f27d9599",
   "metadata": {},
   "outputs": [
    {
     "data": {
      "text/plain": [
       "224"
      ]
     },
     "execution_count": 53,
     "metadata": {},
     "output_type": "execute_result"
    }
   ],
   "source": [
    "# getting the image size to resize our images\n",
    "\n",
    "img_size = processor.size['height']     # Can use either width or height as both are (224)\n",
    "\n",
    "img_size"
   ]
  },
  {
   "cell_type": "code",
   "execution_count": 54,
   "id": "56dde928",
   "metadata": {},
   "outputs": [],
   "source": [
    "from torchvision.transforms import Normalize\n",
    "# Identifying our normalization parameters\n",
    "normalizer = Normalize(img_mean, img_std)"
   ]
  },
  {
   "cell_type": "code",
   "execution_count": 55,
   "id": "4ff6dddd",
   "metadata": {},
   "outputs": [],
   "source": [
    "from torchvision.transforms import Compose, Resize, RandomRotation, RandomAdjustSharpness, RandomHorizontalFlip, ToTensor\n",
    "\n",
    "# Identifying the transformations for our train dataset\n",
    "train_transformation = Compose(\n",
    "    [\n",
    "        Resize((img_size, img_size)),       # Resizes the image\n",
    "        RandomRotation(10),                 # Adds random rotations to the images\n",
    "        RandomAdjustSharpness(2),           # Adjusts the sharpness of the images randomly\n",
    "        RandomHorizontalFlip(0.5),          # Apply random horizontal flips to the images\n",
    "        ToTensor(),                         # Converts the image to tensors for the machine learning process\n",
    "        normalizer                          # Normalize the tensors using the normalizer parameters we have defined\n",
    "    ]\n",
    ")\n",
    "\n",
    "# Identify the transfomations for our test dataset\n",
    "test_transformation = Compose(\n",
    "    [\n",
    "        Resize((img_size, img_size)),\n",
    "        ToTensor(),\n",
    "        normalizer\n",
    "    ]\n",
    ")\n"
   ]
  },
  {
   "cell_type": "code",
   "execution_count": 56,
   "id": "ee2883c9",
   "metadata": {},
   "outputs": [],
   "source": [
    "# Creating function to map transformations to the train dataset\n",
    "\n",
    "def train_transform(examples):\n",
    "    examples['pixel_values'] = [train_transformation(img.convert(\"RGB\")) for img in examples['image']]\n",
    "    return examples\n",
    "\n",
    "def test_transform(examples):\n",
    "    examples['pixel_values'] = [test_transformation(img.convert(\"RGB\")) for img in examples['image']]\n",
    "    return examples\n",
    "\n"
   ]
  },
  {
   "cell_type": "markdown",
   "id": "b2165e45",
   "metadata": {},
   "source": [
    "## Applying the transformation functions to our data using lazy loading"
   ]
  },
  {
   "cell_type": "code",
   "execution_count": 57,
   "id": "061fda02",
   "metadata": {},
   "outputs": [],
   "source": [
    "# Applying for our training dataset\n",
    "train_data.set_transform(train_transform)\n",
    "\n",
    "# Applying for our test dataset\n",
    "test_data.set_transform(test_transform)"
   ]
  },
  {
   "cell_type": "markdown",
   "id": "58210a07",
   "metadata": {},
   "source": [
    "# Identifying the dataloader, evaluation metrics, training arguments and trainer parameters"
   ]
  },
  {
   "cell_type": "markdown",
   "id": "5d9311f9",
   "metadata": {},
   "source": [
    "## DataLoader"
   ]
  },
  {
   "cell_type": "code",
   "execution_count": 58,
   "id": "7dc64a4f",
   "metadata": {},
   "outputs": [],
   "source": [
    "def collate_fn(examples):\n",
    "    # Ensure all pixel_values are stacked into a 4D tensor: [batch_size, 3, H, W]\n",
    "    pixel_values = torch.stack([example[\"pixel_values\"] for example in examples])\n",
    "    \n",
    "    # Ensure labels are collected as a 1D tensor of integers\n",
    "    labels = torch.tensor([int(example['labels']) for example in examples], dtype=torch.long)\n",
    "    \n",
    "    return {\"pixel_values\": pixel_values, \"labels\": labels}\n"
   ]
  },
  {
   "cell_type": "markdown",
   "id": "444651ac",
   "metadata": {},
   "source": [
    "## Model Intialization"
   ]
  },
  {
   "cell_type": "code",
   "execution_count": 59,
   "id": "0adee7b3",
   "metadata": {},
   "outputs": [
    {
     "name": "stderr",
     "output_type": "stream",
     "text": [
      "Some weights of ViTForImageClassification were not initialized from the model checkpoint at google/vit-base-patch16-224-in21k and are newly initialized: ['classifier.bias', 'classifier.weight']\n",
      "You should probably TRAIN this model on a down-stream task to be able to use it for predictions and inference.\n"
     ]
    },
    {
     "name": "stdout",
     "output_type": "stream",
     "text": [
      "Number of trainable parameters: 86.05 million\n"
     ]
    }
   ],
   "source": [
    "from transformers import ViTForImageClassification\n",
    "# Intiating our pretrained model\n",
    "model_name = 'google/vit-base-patch16-224-in21k'\n",
    "\n",
    "model = ViTForImageClassification.from_pretrained(model_name, num_labels = len(labels_list))\n",
    "\n",
    "# Configure the mapping of class labels to their corresponding indices.\n",
    "model.config.id2label = id2label\n",
    "model.config.label2id = label2id\n",
    "\n",
    "# Calculate and display the number of trainable parameters (in millions) in the model\n",
    "print(f\"Number of trainable parameters: {model.num_parameters(only_trainable=True) / 1e6:.2f} million\")\n"
   ]
  },
  {
   "cell_type": "markdown",
   "id": "09b26fdf",
   "metadata": {},
   "source": [
    "## Evaluation metrics"
   ]
  },
  {
   "cell_type": "code",
   "execution_count": 60,
   "id": "8b454b39",
   "metadata": {},
   "outputs": [],
   "source": [
    "# Load accuracy metric (already imported via evaluate)\n",
    "accuracy = evaluate.load(\"accuracy\")\n",
    "\n",
    "# Define metric computation function for evaluation\n",
    "def compute_metrics(eval_pred):\n",
    "    preds = eval_pred.predictions.argmax(axis=1)  # Get predicted class labels\n",
    "    labels = eval_pred.label_ids                 # Get true labels\n",
    "    return accuracy.compute(predictions=preds, references=labels)"
   ]
  },
  {
   "cell_type": "markdown",
   "id": "7d613194",
   "metadata": {},
   "source": [
    "## Training Arguments"
   ]
  },
  {
   "cell_type": "code",
   "execution_count": 61,
   "id": "cd6e7a5c",
   "metadata": {},
   "outputs": [],
   "source": [
    "from transformers import TrainingArguments\n",
    "\n",
    "# Define model name and number of training epochs\n",
    "model_name = \"./car_models_image_classifier\"\n",
    "num_train_epochs = 10\n",
    "\n",
    "# Configure training settings\n",
    "args = TrainingArguments(\n",
    "    output_dir=model_name,                 # Where to save model checkpoints\n",
    "    logging_dir=\"./logs\",                  # Where to save training logs\n",
    "    logging_strategy=\"epoch\",              # Log training loss\n",
    "    eval_strategy=\"epoch\",          # Evaluate at the end of each epoch\n",
    "    save_strategy=\"epoch\",                # Save checkpoints per epoch\n",
    "    learning_rate=1.5e-5,                 # Initial learning rate\n",
    "    per_device_train_batch_size=16,       # Training batch size per device\n",
    "    per_device_eval_batch_size=16,         # Evaluation batch size per device\n",
    "    num_train_epochs=num_train_epochs,    # Total training epochs\n",
    "    weight_decay=0.01,                    # Apply weight decay for regularization\n",
    "    warmup_steps=50,                      # Learning rate warm-up steps\n",
    "    remove_unused_columns=False,          # Keep all dataset columns\n",
    "    load_best_model_at_end=True,          # Reload best checkpoint at the end\n",
    "    save_total_limit=1,                   # Keep only the best checkpoint\n",
    "    report_to=\"none\"                      # Disable reporting (e.g., WandB, TensorBoard)\n",
    ")\n"
   ]
  },
  {
   "cell_type": "markdown",
   "id": "76402b6d",
   "metadata": {},
   "source": [
    "## Trainer Parameters"
   ]
  },
  {
   "cell_type": "code",
   "execution_count": 62,
   "id": "e2dd7ebd",
   "metadata": {},
   "outputs": [
    {
     "name": "stderr",
     "output_type": "stream",
     "text": [
      "C:\\Users\\maraw\\AppData\\Local\\Temp\\ipykernel_9772\\3566567214.py:2: FutureWarning: `tokenizer` is deprecated and will be removed in version 5.0.0 for `Trainer.__init__`. Use `processing_class` instead.\n",
      "  trainer = Trainer(\n"
     ]
    }
   ],
   "source": [
    "from transformers import Trainer\n",
    "trainer = Trainer(\n",
    "    model,\n",
    "    args,\n",
    "    train_dataset=train_data,\n",
    "    eval_dataset=test_data,\n",
    "    data_collator=collate_fn,\n",
    "    compute_metrics=compute_metrics,\n",
    "    tokenizer=processor,\n",
    ")"
   ]
  },
  {
   "cell_type": "code",
   "execution_count": 63,
   "id": "0647c0ea",
   "metadata": {},
   "outputs": [
    {
     "name": "stdout",
     "output_type": "stream",
     "text": [
      "['image', 'labels', '__index_level_0__']\n"
     ]
    }
   ],
   "source": [
    "print(test_data.column_names)\n"
   ]
  },
  {
   "cell_type": "code",
   "execution_count": 64,
   "id": "806ba895",
   "metadata": {},
   "outputs": [
    {
     "data": {
      "text/html": [
       "\n",
       "    <div>\n",
       "      \n",
       "      <progress value='5000' max='2500' style='width:300px; height:20px; vertical-align: middle;'></progress>\n",
       "      [2500/2500 32:58]\n",
       "    </div>\n",
       "    "
      ],
      "text/plain": [
       "<IPython.core.display.HTML object>"
      ]
     },
     "metadata": {},
     "output_type": "display_data"
    },
    {
     "data": {
      "text/plain": [
       "{'eval_loss': 5.779440879821777,\n",
       " 'eval_model_preparation_time': 0.004,\n",
       " 'eval_accuracy': 0.0032,\n",
       " 'eval_runtime': 308.3904,\n",
       " 'eval_samples_per_second': 129.706,\n",
       " 'eval_steps_per_second': 8.107}"
      ]
     },
     "execution_count": 64,
     "metadata": {},
     "output_type": "execute_result"
    }
   ],
   "source": [
    "# Evaluate the model before training on the test dataset.\n",
    "# This provides a baseline by computing metrics like accuracy and loss\n",
    "# to understand how the untrained or pretrained model performs on unseen data.\n",
    "\n",
    "trainer.evaluate()\n"
   ]
  },
  {
   "cell_type": "markdown",
   "id": "dc34e4d7",
   "metadata": {},
   "source": [
    "# Model Training"
   ]
  },
  {
   "cell_type": "code",
   "execution_count": 65,
   "id": "c8b4c203",
   "metadata": {},
   "outputs": [
    {
     "data": {
      "text/html": [
       "\n",
       "    <div>\n",
       "      \n",
       "      <progress value='37500' max='37500' style='width:300px; height:20px; vertical-align: middle;'></progress>\n",
       "      [37500/37500 4:55:31, Epoch 10/10]\n",
       "    </div>\n",
       "    <table border=\"1\" class=\"dataframe\">\n",
       "  <thead>\n",
       " <tr style=\"text-align: left;\">\n",
       "      <th>Epoch</th>\n",
       "      <th>Training Loss</th>\n",
       "      <th>Validation Loss</th>\n",
       "      <th>Model Preparation Time</th>\n",
       "      <th>Accuracy</th>\n",
       "    </tr>\n",
       "  </thead>\n",
       "  <tbody>\n",
       "    <tr>\n",
       "      <td>1</td>\n",
       "      <td>5.390000</td>\n",
       "      <td>4.980709</td>\n",
       "      <td>0.004000</td>\n",
       "      <td>0.254075</td>\n",
       "    </tr>\n",
       "    <tr>\n",
       "      <td>2</td>\n",
       "      <td>4.551000</td>\n",
       "      <td>4.207791</td>\n",
       "      <td>0.004000</td>\n",
       "      <td>0.389200</td>\n",
       "    </tr>\n",
       "    <tr>\n",
       "      <td>3</td>\n",
       "      <td>3.734800</td>\n",
       "      <td>3.455834</td>\n",
       "      <td>0.004000</td>\n",
       "      <td>0.509750</td>\n",
       "    </tr>\n",
       "    <tr>\n",
       "      <td>4</td>\n",
       "      <td>2.977200</td>\n",
       "      <td>2.797439</td>\n",
       "      <td>0.004000</td>\n",
       "      <td>0.604825</td>\n",
       "    </tr>\n",
       "    <tr>\n",
       "      <td>5</td>\n",
       "      <td>2.330800</td>\n",
       "      <td>2.276062</td>\n",
       "      <td>0.004000</td>\n",
       "      <td>0.678075</td>\n",
       "    </tr>\n",
       "    <tr>\n",
       "      <td>6</td>\n",
       "      <td>1.822000</td>\n",
       "      <td>1.883612</td>\n",
       "      <td>0.004000</td>\n",
       "      <td>0.727350</td>\n",
       "    </tr>\n",
       "    <tr>\n",
       "      <td>7</td>\n",
       "      <td>1.444000</td>\n",
       "      <td>1.611190</td>\n",
       "      <td>0.004000</td>\n",
       "      <td>0.765175</td>\n",
       "    </tr>\n",
       "    <tr>\n",
       "      <td>8</td>\n",
       "      <td>1.181200</td>\n",
       "      <td>1.428384</td>\n",
       "      <td>0.004000</td>\n",
       "      <td>0.789800</td>\n",
       "    </tr>\n",
       "    <tr>\n",
       "      <td>9</td>\n",
       "      <td>1.012600</td>\n",
       "      <td>1.325848</td>\n",
       "      <td>0.004000</td>\n",
       "      <td>0.801750</td>\n",
       "    </tr>\n",
       "    <tr>\n",
       "      <td>10</td>\n",
       "      <td>0.924000</td>\n",
       "      <td>1.288467</td>\n",
       "      <td>0.004000</td>\n",
       "      <td>0.807250</td>\n",
       "    </tr>\n",
       "  </tbody>\n",
       "</table><p>"
      ],
      "text/plain": [
       "<IPython.core.display.HTML object>"
      ]
     },
     "metadata": {},
     "output_type": "display_data"
    },
    {
     "data": {
      "text/plain": [
       "TrainOutput(global_step=37500, training_loss=2.53675953125, metrics={'train_runtime': 17731.5788, 'train_samples_per_second': 33.838, 'train_steps_per_second': 2.115, 'total_flos': 4.66289614393344e+19, 'train_loss': 2.53675953125, 'epoch': 10.0})"
      ]
     },
     "execution_count": 65,
     "metadata": {},
     "output_type": "execute_result"
    }
   ],
   "source": [
    "trainer.train()"
   ]
  },
  {
   "cell_type": "code",
   "execution_count": 67,
   "id": "f1ec5b1e",
   "metadata": {},
   "outputs": [
    {
     "data": {
      "text/html": [],
      "text/plain": [
       "<IPython.core.display.HTML object>"
      ]
     },
     "metadata": {},
     "output_type": "display_data"
    },
    {
     "name": "stdout",
     "output_type": "stream",
     "text": [
      "✅ Accuracy:     0.8073\n",
      "✅ Macro F1 Score: 0.7999\n",
      "\n",
      "📋 Classification Report:\n",
      "\n",
      "                               precision    recall  f1-score   support\n",
      "\n",
      "                    Acura ILX     0.6343    0.8952    0.7425       124\n",
      "                    Acura MDX     0.7132    0.7293    0.7212       133\n",
      "                    Acura NSX     0.8889    0.7879    0.8353       132\n",
      "                    Acura RDX     0.9195    0.6612    0.7692       121\n",
      "                    Acura RLX     0.6687    0.8560    0.7509       125\n",
      "                    Acura TLX     0.7422    0.8190    0.7787       116\n",
      "                Alfa Romeo 4C     0.9194    0.9194    0.9194       124\n",
      "         Alfa Romeo 4C Spider     0.9837    1.0000    0.9918       121\n",
      "            Alfa Romeo Giulia     0.9275    1.0000    0.9624       128\n",
      "           Alfa Romeo Stelvio     0.9000    1.0000    0.9474       126\n",
      "            Aston Martin DB11     0.8582    1.0000    0.9237       121\n",
      "             Aston Martin DBS     0.9727    0.8917    0.9304       120\n",
      "        Aston Martin Vanquish     0.8605    0.8740    0.8672       127\n",
      "         Aston Martin Vantage     0.8595    0.8525    0.8560       122\n",
      "                      Audi A3     0.6111    0.6718    0.6400       131\n",
      "                      Audi A4     0.6782    0.5175    0.5871       114\n",
      "                      Audi A5     0.5786    0.6532    0.6136       124\n",
      "                      Audi A6     0.6442    0.5447    0.5903       123\n",
      "                      Audi A7     0.6667    0.3780    0.4824       127\n",
      "                      Audi A8     0.7368    0.8376    0.7840       117\n",
      "                      Audi Q3     0.8345    0.9431    0.8855       123\n",
      "                      Audi Q5     0.7500    0.8333    0.7895       126\n",
      "                      Audi Q7     0.7836    0.8140    0.7985       129\n",
      "                      Audi Q8     0.8088    0.8871    0.8462       124\n",
      "                      Audi R8     0.7377    0.7377    0.7377       122\n",
      "                      Audi TT     0.6957    0.7869    0.7385       122\n",
      "                  Audi e-tron     0.8980    1.0000    0.9462       132\n",
      "                 BMW 2-Series     0.6939    0.5913    0.6385       115\n",
      "                 BMW 3-Series     0.6604    0.5983    0.6278       117\n",
      "                 BMW 4-Series     0.6424    0.7886    0.7080       123\n",
      "                 BMW 5-Series     0.5870    0.4320    0.4977       125\n",
      "                 BMW 6-Series     0.6147    0.5360    0.5726       125\n",
      "                 BMW 7-Series     0.6466    0.6048    0.6250       124\n",
      "                 BMW 8-Series     0.9318    0.9919    0.9609       124\n",
      "                       BMW X1     0.7710    0.8417    0.8048       120\n",
      "                       BMW X2     0.8521    0.9758    0.9098       124\n",
      "                       BMW X3     0.7339    0.7521    0.7429       121\n",
      "                       BMW X4     0.7152    0.9113    0.8014       124\n",
      "                       BMW X5     0.7103    0.6179    0.6609       123\n",
      "                       BMW X6     0.7164    0.7742    0.7442       124\n",
      "                       BMW X7     0.9692    1.0000    0.9844       126\n",
      "                       BMW Z4     0.7959    0.6142    0.6933       127\n",
      "                       BMW i3     0.7708    0.9174    0.8377       121\n",
      "                       BMW i8     0.8657    0.9587    0.9098       121\n",
      "             Bentley Bentayga     0.7962    0.9470    0.8651       132\n",
      "       Bentley Continental GT     0.6880    0.7167    0.7020       120\n",
      "          Bentley Flying Spur     0.8198    0.7778    0.7982       117\n",
      "             Bentley Mulsanne     0.6578    0.9462    0.7760       130\n",
      "                Buick Cascada     0.8741    0.9516    0.9112       124\n",
      "                Buick Enclave     0.8462    0.7984    0.8216       124\n",
      "                 Buick Encore     0.8085    0.9744    0.8837       117\n",
      "               Buick Envision     0.8857    0.9612    0.9219       129\n",
      "               Buick Lacrosse     0.7405    0.7951    0.7668       122\n",
      "                  Buick Regal     0.6947    0.5546    0.6168       119\n",
      "                 Cadillac ATS     0.7386    0.8968    0.8100       126\n",
      "                 Cadillac CT4     1.0000    1.0000    1.0000       118\n",
      "                 Cadillac CT5     0.9667    1.0000    0.9831       116\n",
      "                 Cadillac CT6     0.6908    0.8607    0.7664       122\n",
      "                 Cadillac CTS     0.7667    0.5750    0.6571       120\n",
      "            Cadillac Escalade     0.9018    0.8417    0.8707       120\n",
      "                 Cadillac XT4     0.9701    1.0000    0.9848       130\n",
      "                 Cadillac XT5     0.7451    0.9744    0.8444       117\n",
      "                 Cadillac XT6     0.9748    1.0000    0.9872       116\n",
      "                 Cadillac XTS     0.7097    0.9167    0.8000       120\n",
      "             Chevrolet Blazer     0.9833    0.9516    0.9672       124\n",
      "            Chevrolet Bolt EV     0.9580    0.9580    0.9580       119\n",
      "             Chevrolet Camaro     0.8000    0.6667    0.7273       126\n",
      "           Chevrolet Colorado     0.7245    0.5868    0.6484       121\n",
      "           Chevrolet Corvette     0.8315    0.6066    0.7014       122\n",
      "              Chevrolet Cruze     0.6800    0.5667    0.6182       120\n",
      "            Chevrolet Equinox     0.9000    0.7438    0.8145       121\n",
      "             Chevrolet Impala     0.8069    0.9213    0.8603       127\n",
      "             Chevrolet Malibu     0.8737    0.6917    0.7721       120\n",
      "     Chevrolet Silverado 1500     0.6613    0.3361    0.4457       122\n",
      "   Chevrolet Silverado 2500HD     0.5235    0.7739    0.6246       115\n",
      "              Chevrolet Sonic     0.7801    0.8943    0.8333       123\n",
      "              Chevrolet Spark     0.8936    0.9767    0.9333       129\n",
      "           Chevrolet Suburban     0.7826    0.8640    0.8213       125\n",
      "              Chevrolet Tahoe     0.9082    0.7542    0.8241       118\n",
      "        Chevrolet TrailBlazer     0.9000    0.9286    0.9141       126\n",
      "           Chevrolet Traverse     0.8017    0.7886    0.7951       123\n",
      "               Chevrolet Trax     0.9313    0.9457    0.9385       129\n",
      "               Chevrolet Volt     0.8174    0.8103    0.8139       116\n",
      "                 Chrysler 300     0.6963    0.7705    0.7315       122\n",
      "            Chrysler Pacifica     0.8785    0.7642    0.8174       123\n",
      "             Dodge Challenger     0.6209    0.7480    0.6786       127\n",
      "                Dodge Charger     0.8152    0.5859    0.6818       128\n",
      "                Dodge Durango     0.8168    0.8560    0.8359       125\n",
      "          Dodge Grand Caravan     0.9397    0.9316    0.9356       117\n",
      "                Dodge Journey     0.8385    0.9083    0.8720       120\n",
      "              FIAT 124 Spider     0.8864    0.9435    0.9141       124\n",
      "                     FIAT 500     0.8036    0.7258    0.7627       124\n",
      "                    FIAT 500L     1.0000    0.9153    0.9558       118\n",
      "                    FIAT 500X     0.9191    0.9921    0.9542       126\n",
      "                    FIAT 500e     0.8828    0.8828    0.8828       128\n",
      "              Ferrari 488 GTB     0.9839    0.9839    0.9839       124\n",
      "            Ferrari GTC4Lusso     1.0000    1.0000    1.0000       123\n",
      "            Ferrari Portofino     1.0000    1.0000    1.0000       120\n",
      "                Ford Ecosport     0.8815    1.0000    0.9370       119\n",
      "                    Ford Edge     0.9333    0.4516    0.6087       124\n",
      "                  Ford Escape     0.8077    0.4922    0.6117       128\n",
      "              Ford Expedition     0.8727    0.7742    0.8205       124\n",
      "                Ford Explorer     0.7500    0.6774    0.7119       124\n",
      "                   Ford F-150     0.6364    0.5746    0.6039       134\n",
      "                  Ford Fiesta     0.6931    0.5600    0.6195       125\n",
      "                    Ford Flex     0.8923    0.9431    0.9170       123\n",
      "                  Ford Fusion     0.6692    0.7177    0.6926       124\n",
      "                 Ford Mustang     0.6528    0.3884    0.4870       121\n",
      "                  Ford Ranger     0.8522    0.8305    0.8412       118\n",
      "        Ford Super Duty F-250     0.7417    0.9106    0.8175       123\n",
      "                  Ford Taurus     0.6757    0.6250    0.6494       120\n",
      "   Ford Transit Connect Wagon     0.9360    0.9360    0.9360       125\n",
      "                   GMC Acadia     0.9060    0.8413    0.8724       126\n",
      "                   GMC Canyon     0.6641    0.6960    0.6797       125\n",
      "              GMC Sierra 1500     0.5500    0.2845    0.3750       116\n",
      "            GMC Sierra 2500HD     0.5714    0.6281    0.5984       121\n",
      "                  GMC Terrain     0.8596    0.7778    0.8167       126\n",
      "                    GMC Yukon     0.8819    0.8819    0.8819       127\n",
      "                  Genesis G70     0.9124    1.0000    0.9542       125\n",
      "                  Genesis G80     0.8643    1.0000    0.9272       121\n",
      "                  Genesis G90     0.7500    0.9744    0.8476       117\n",
      "                 Honda Accord     0.6667    0.1565    0.2535       115\n",
      "                   Honda CR-V     0.7339    0.7459    0.7398       122\n",
      "                  Honda Civic     0.8000    0.1920    0.3097       125\n",
      "                Honda Clarity     0.8138    0.9077    0.8582       130\n",
      "                    Honda Fit     0.6357    0.6794    0.6568       131\n",
      "                   Honda HR-V     0.8382    0.8837    0.8604       129\n",
      "                Honda Insight     0.8171    0.5726    0.6734       117\n",
      "                Honda Odyssey     0.7200    0.8710    0.7883       124\n",
      "               Honda Passport     0.8540    0.9360    0.8931       125\n",
      "                  Honda Pilot     0.6866    0.7419    0.7132       124\n",
      "              Honda Ridgeline     0.7734    0.8049    0.7888       123\n",
      "               Hyundai Accent     0.6935    0.6992    0.6964       123\n",
      "              Hyundai Elantra     0.7250    0.2377    0.3580       122\n",
      "                Hyundai Ioniq     0.6319    0.8712    0.7325       132\n",
      "                 Hyundai Kona     0.9917    0.9015    0.9444       132\n",
      "        Hyundai Kona Electric     0.8865    1.0000    0.9398       125\n",
      "                 Hyundai NEXO     0.9922    1.0000    0.9961       128\n",
      "             Hyundai Palisade     0.9831    0.9915    0.9872       117\n",
      "             Hyundai Santa Fe     0.8525    0.4160    0.5591       125\n",
      "               Hyundai Sonata     0.5000    0.5504    0.5240       129\n",
      "               Hyundai Tucson     0.7578    0.7348    0.7462       132\n",
      "             Hyundai Veloster     0.8140    0.8268    0.8203       127\n",
      "                Hyundai Venue     1.0000    1.0000    1.0000       120\n",
      "                 INFINITI Q50     0.8983    0.8281    0.8618       128\n",
      "                 INFINITI Q60     0.7619    0.9106    0.8296       123\n",
      "                 INFINITI Q70     0.8643    0.9528    0.9064       127\n",
      "                INFINITI QX30     0.9767    1.0000    0.9882       126\n",
      "                INFINITI QX50     0.8138    0.9593    0.8806       123\n",
      "                INFINITI QX60     0.6983    0.9542    0.8065       131\n",
      "                INFINITI QX80     0.9104    0.9531    0.9313       128\n",
      "                Jaguar E-Pace     0.8369    1.0000    0.9112       118\n",
      "                Jaguar F-Pace     0.8678    0.8750    0.8714       120\n",
      "                Jaguar F-Type     0.6885    0.6614    0.6747       127\n",
      "                Jaguar I-Pace     0.7247    1.0000    0.8404       129\n",
      "                    Jaguar XE     0.7465    0.8413    0.7910       126\n",
      "                    Jaguar XF     0.7283    0.5194    0.6063       129\n",
      "                    Jaguar XJ     0.6667    0.6613    0.6640       124\n",
      "                Jeep Cherokee     0.8790    0.8862    0.8826       123\n",
      "                 Jeep Compass     0.9487    0.8880    0.9174       125\n",
      "               Jeep Gladiator     0.9845    1.0000    0.9922       127\n",
      "          Jeep Grand Cherokee     0.8783    0.7953    0.8347       127\n",
      "                Jeep Renegade     0.9774    1.0000    0.9886       130\n",
      "                Jeep Wrangler     0.9619    0.9099    0.9352       111\n",
      "                  Kia Cadenza     0.7465    0.8908    0.8123       119\n",
      "                    Kia Forte     0.5963    0.5078    0.5485       128\n",
      "                     Kia K900     0.8446    0.9690    0.9025       129\n",
      "                     Kia Niro     0.7365    0.8720    0.7985       125\n",
      "                   Kia Optima     0.6944    0.6000    0.6438       125\n",
      "                      Kia Rio     0.7143    0.6870    0.7004       131\n",
      "                   Kia Sedona     0.8333    0.8607    0.8468       122\n",
      "                  Kia Sorento     0.7944    0.6967    0.7424       122\n",
      "                     Kia Soul     0.8279    0.8016    0.8145       126\n",
      "                  Kia Soul EV     0.9167    1.0000    0.9565       132\n",
      "                 Kia Sportage     0.7417    0.9032    0.8145       124\n",
      "                  Kia Stinger     0.9231    1.0000    0.9600       120\n",
      "                Kia Telluride     0.8489    0.9833    0.9112       120\n",
      "        Lamborghini Aventador     0.9841    1.0000    0.9920       124\n",
      "          Lamborghini Huracan     0.8843    0.8492    0.8664       126\n",
      "             Lamborghini Urus     0.9426    1.0000    0.9705       115\n",
      "          Land Rover Defender     0.9449    1.0000    0.9717       120\n",
      "         Land Rover Discovery     0.7959    0.9000    0.8448       130\n",
      "   Land Rover Discovery Sport     0.8671    0.9688    0.9151       128\n",
      "       Land Rover Range Rover     0.6726    0.6230    0.6468       122\n",
      "Land Rover Range Rover Evoque     0.8306    0.8655    0.8477       119\n",
      " Land Rover Range Rover Sport     0.6381    0.5115    0.5678       131\n",
      " Land Rover Range Rover Velar     0.9403    1.0000    0.9692       126\n",
      "                     Lexus ES     0.6167    0.6435    0.6298       115\n",
      "                     Lexus GS     0.6577    0.5703    0.6109       128\n",
      "                     Lexus GX     0.8860    0.9099    0.8978       111\n",
      "                     Lexus IS     0.6831    0.7760    0.7266       125\n",
      "                     Lexus LC     0.9669    0.9512    0.9590       123\n",
      "                     Lexus LS     0.8316    0.6695    0.7418       118\n",
      "                     Lexus LX     0.7887    0.8750    0.8296       128\n",
      "                     Lexus NX     0.8870    0.8226    0.8536       124\n",
      "                     Lexus RC     0.7353    0.8065    0.7692       124\n",
      "                     Lexus RX     0.7752    0.7692    0.7722       130\n",
      "                     Lexus UX     0.9160    0.9677    0.9412       124\n",
      "              Lincoln Aviator     0.6797    0.7250    0.7016       120\n",
      "          Lincoln Continental     0.7436    0.7373    0.7404       118\n",
      "              Lincoln Corsair     0.8356    1.0000    0.9104       122\n",
      "                  Lincoln MKC     0.7626    0.8908    0.8217       119\n",
      "                  Lincoln MKT     0.7651    0.9344    0.8413       122\n",
      "                  Lincoln MKZ     0.8621    0.8065    0.8333       124\n",
      "             Lincoln Nautilus     0.8255    0.9462    0.8817       130\n",
      "            Lincoln Navigator     0.8571    0.6870    0.7627       131\n",
      "                 MINI Clubman     0.8843    0.8629    0.8735       124\n",
      "                  MINI Cooper     0.7956    0.8516    0.8226       128\n",
      "       MINI Cooper Countryman     0.8102    0.8473    0.8284       131\n",
      "              Maserati Ghibli     0.9355    0.9206    0.9280       126\n",
      "         Maserati GranTurismo     0.7736    0.6949    0.7321       118\n",
      "             Maserati Levante     0.9683    1.0000    0.9839       122\n",
      "        Maserati Quattroporte     0.8145    0.8417    0.8279       120\n",
      "                   Mazda CX-3     0.8560    0.9224    0.8880       116\n",
      "                  Mazda CX-30     0.9516    1.0000    0.9752       118\n",
      "                   Mazda CX-5     0.7674    0.5593    0.6471       118\n",
      "                   Mazda CX-9     0.8467    0.9695    0.9039       131\n",
      "                 Mazda MAZDA3     0.6632    0.5122    0.5780       123\n",
      "                 Mazda MAZDA6     0.6271    0.8222    0.7115       135\n",
      "             Mazda MX-5 Miata     0.7455    0.6667    0.7039       123\n",
      "       Mazda Mazda3 Hatchback     0.9839    1.0000    0.9919       122\n",
      "                McLaren 570GT     1.0000    1.0000    1.0000       133\n",
      "                 McLaren 570S     0.9695    1.0000    0.9845       127\n",
      "                 McLaren 720S     0.9394    1.0000    0.9688       124\n",
      "        Mercedes-Benz A Class     0.7898    1.0000    0.8826       124\n",
      "         Mercedes-Benz AMG GT     0.8661    0.8151    0.8398       119\n",
      "        Mercedes-Benz C Class     0.6607    0.3033    0.4157       122\n",
      "      Mercedes-Benz CLA Class     0.7021    0.7857    0.7416       126\n",
      "      Mercedes-Benz CLS Class     0.6585    0.6378    0.6480       127\n",
      "        Mercedes-Benz E Class     0.6500    0.6142    0.6316       127\n",
      "            Mercedes-Benz EQC     0.9645    1.0000    0.9819       136\n",
      "        Mercedes-Benz G Class     0.8306    0.8374    0.8340       123\n",
      "      Mercedes-Benz GLA Class     0.7843    0.9091    0.8421       132\n",
      "      Mercedes-Benz GLB Class     0.9091    0.9375    0.9231       128\n",
      "      Mercedes-Benz GLC Class     0.7525    0.6230    0.6816       122\n",
      "      Mercedes-Benz GLE Class     0.7653    0.6466    0.7009       116\n",
      "      Mercedes-Benz GLS Class     0.8095    0.9370    0.8686       127\n",
      "         Mercedes-Benz Metris     0.9231    0.9677    0.9449       124\n",
      "        Mercedes-Benz S Class     0.8028    0.4488    0.5758       127\n",
      "       Mercedes-Benz SL Class     0.7643    0.8492    0.8045       126\n",
      "      Mercedes-Benz SLC Class     0.8561    0.9262    0.8898       122\n",
      "     Mitsubishi Eclipse Cross     0.9744    0.9913    0.9828       115\n",
      "            Mitsubishi Mirage     0.7400    0.9024    0.8132       123\n",
      "         Mitsubishi Outlander     0.7731    0.7188    0.7449       128\n",
      "   Mitsubishi Outlander Sport     0.7067    0.8413    0.7681       126\n",
      "                  Nissan 370Z     0.8525    0.8254    0.8387       126\n",
      "                Nissan Altima     0.6698    0.5680    0.6147       125\n",
      "                Nissan Armada     0.9030    0.9308    0.9167       130\n",
      "              Nissan Frontier     0.7519    0.8220    0.7854       118\n",
      "                  Nissan GT-R     0.6916    0.6066    0.6463       122\n",
      "                 Nissan Kicks     0.9692    1.0000    0.9844       126\n",
      "                  Nissan Leaf     0.6903    0.6446    0.6667       121\n",
      "                Nissan Maxima     0.8000    0.8455    0.8221       123\n",
      "                Nissan Murano     0.8091    0.7417    0.7739       120\n",
      "                 Nissan NV200     1.0000    0.9593    0.9793       123\n",
      "            Nissan Pathfinder     0.8585    0.7339    0.7913       124\n",
      "                 Nissan Rogue     0.7698    0.7760    0.7729       125\n",
      "           Nissan Rogue Sport     0.8881    0.9922    0.9373       128\n",
      "                Nissan Sentra     0.7048    0.5827    0.6379       127\n",
      "                 Nissan Titan     0.7945    0.4793    0.5979       121\n",
      "                 Nissan Versa     0.6667    0.4252    0.5192       127\n",
      "                  Porsche 718     0.8780    0.9153    0.8963       118\n",
      "           Porsche 718 Spyder     1.0000    1.0000    1.0000       116\n",
      "                  Porsche 911     0.7941    0.6279    0.7013       129\n",
      "              Porsche Cayenne     0.6957    0.5000    0.5818       128\n",
      "                Porsche Macan     0.8362    0.7951    0.8151       122\n",
      "             Porsche Panamera     0.7273    0.7680    0.7471       125\n",
      "               Porsche Taycan     0.8978    0.9462    0.9213       130\n",
      "                     Ram 1500     0.7604    0.6083    0.6759       120\n",
      "                     Ram 2500     0.7800    0.8603    0.8182       136\n",
      "         Rolls-Royce Cullinan     0.9920    1.0000    0.9960       124\n",
      "             Rolls-Royce Dawn     1.0000    1.0000    1.0000       128\n",
      "            Rolls-Royce Ghost     0.7907    0.8361    0.8127       122\n",
      "          Rolls-Royce Phantom     0.9084    0.9835    0.9444       121\n",
      "           Rolls-Royce Wraith     1.0000    1.0000    1.0000       122\n",
      "                Subaru Ascent     0.9147    0.9752    0.9440       121\n",
      "                   Subaru BRZ     0.9024    0.9328    0.9174       119\n",
      "             Subaru Crosstrek     0.8814    0.8814    0.8814       118\n",
      "              Subaru Forester     0.7143    0.8594    0.7801       128\n",
      "               Subaru Impreza     0.7386    0.5200    0.6103       125\n",
      "                Subaru Legacy     0.6458    0.2583    0.3690       120\n",
      "               Subaru Outback     0.7279    0.7984    0.7615       124\n",
      "              Subaru STI S209     1.0000    1.0000    1.0000       126\n",
      "                   Subaru WRX     0.6614    0.7000    0.6802       120\n",
      "                Tesla Model 3     0.9776    1.0000    0.9887       131\n",
      "                Tesla Model S     0.7203    0.8583    0.7833       120\n",
      "                Tesla Model X     0.9474    1.0000    0.9730       126\n",
      "                Tesla Model Y     1.0000    1.0000    1.0000       126\n",
      "               Toyota 4Runner     0.7959    0.9141    0.8509       128\n",
      "                    Toyota 86     0.9752    1.0000    0.9874       118\n",
      "                Toyota Avalon     0.7383    0.6320    0.6810       125\n",
      "                  Toyota C-HR     0.9265    1.0000    0.9618       126\n",
      "                 Toyota Camry     0.5588    0.6281    0.5914       121\n",
      "               Toyota Corolla     0.5155    0.6288    0.5666       132\n",
      "            Toyota Highlander     0.7647    0.5417    0.6341       120\n",
      "          Toyota Land Cruiser     0.9464    0.8983    0.9217       118\n",
      "                 Toyota Mirai     0.9248    0.9609    0.9425       128\n",
      "                 Toyota Prius     0.7185    0.7951    0.7549       122\n",
      "               Toyota Prius C     0.6558    0.8632    0.7454       117\n",
      "                  Toyota RAV4     0.7564    0.4836    0.5900       122\n",
      "               Toyota Sequoia     0.9055    0.8984    0.9020       128\n",
      "                Toyota Sienna     0.9060    0.8480    0.8760       125\n",
      "                 Toyota Supra     0.8626    0.8968    0.8794       126\n",
      "                Toyota Tacoma     0.6108    0.8828    0.7220       128\n",
      "                Toyota Tundra     0.6916    0.5968    0.6407       124\n",
      "                 Toyota Yaris     0.7800    0.3120    0.4457       125\n",
      "       Toyota Yaris Hatchback     1.0000    1.0000    1.0000       119\n",
      "            Volkswagen Arteon     0.9328    1.0000    0.9653       125\n",
      "             Volkswagen Atlas     0.9333    0.9767    0.9545       129\n",
      "            Volkswagen Beetle     0.7622    0.8790    0.8165       124\n",
      "              Volkswagen Golf     0.6475    0.6172    0.6320       128\n",
      "             Volkswagen Jetta     0.6286    0.6929    0.6592       127\n",
      "            Volkswagen Passat     0.5649    0.5873    0.5759       126\n",
      "            Volkswagen Tiguan     0.6414    0.7623    0.6966       122\n",
      "            Volkswagen e-Golf     0.7852    0.9590    0.8635       122\n",
      "                    Volvo S60     0.6768    0.5360    0.5982       125\n",
      "                    Volvo S90     0.8898    0.8968    0.8933       126\n",
      "                    Volvo V60     0.7458    0.6984    0.7213       126\n",
      "                    Volvo V90     0.8252    0.9593    0.8872       123\n",
      "                   Volvo XC40     0.9058    1.0000    0.9506       125\n",
      "                   Volvo XC60     0.8018    0.7417    0.7706       120\n",
      "                   Volvo XC90     0.8469    0.7281    0.7830       114\n",
      "                 smart fortwo     0.8235    0.7597    0.7903       129\n",
      "\n",
      "                     accuracy                         0.8073     40000\n",
      "                    macro avg     0.8073    0.8069    0.7999     40000\n",
      "                 weighted avg     0.8072    0.8073    0.8001     40000\n",
      "\n"
     ]
    }
   ],
   "source": [
    "from sklearn.metrics import accuracy_score, f1_score, classification_report\n",
    "\n",
    "# Run prediction\n",
    "outputs = trainer.predict(test_data)\n",
    "\n",
    "# Extract predictions and true labels\n",
    "y_true = outputs.label_ids\n",
    "y_pred = outputs.predictions.argmax(axis=1)\n",
    "\n",
    "# Compute accuracy and macro F1 score\n",
    "acc_score = accuracy_score(y_true, y_pred)\n",
    "f1 = f1_score(y_true, y_pred, average='macro')\n",
    "\n",
    "print(f\"✅ Accuracy:     {acc_score:.4f}\")\n",
    "print(f\"✅ Macro F1 Score: {f1:.4f}\\n\")\n",
    "\n",
    "# Print detailed classification report\n",
    "print(\"📋 Classification Report:\\n\")\n",
    "print(classification_report(y_true, y_pred, target_names=labels_list, digits=4))"
   ]
  }
 ],
 "metadata": {
  "kernelspec": {
   "display_name": "product_classifier",
   "language": "python",
   "name": "python3"
  },
  "language_info": {
   "codemirror_mode": {
    "name": "ipython",
    "version": 3
   },
   "file_extension": ".py",
   "mimetype": "text/x-python",
   "name": "python",
   "nbconvert_exporter": "python",
   "pygments_lexer": "ipython3",
   "version": "3.11.11"
  }
 },
 "nbformat": 4,
 "nbformat_minor": 5
}
